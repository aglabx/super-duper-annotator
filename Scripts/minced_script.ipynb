{
 "cells": [
  {
   "cell_type": "code",
   "execution_count": 1,
   "metadata": {},
   "outputs": [],
   "source": [
    "import os\n",
    "import os.path"
   ]
  },
  {
   "cell_type": "code",
   "execution_count": 17,
   "metadata": {},
   "outputs": [],
   "source": [
    "settings = {\n",
    "    \"threads\": 32,\n",
    "    \"input_file\": os.path.abspath(\"../test_data/NC_000913.fna\"),\n",
    "    \"binary_folder\": os.path.abspath(\"../prokka/binaries/linux/\"),\n",
    "    \"binary_folder_common\": os.path.abspath(\"../prokka/binaries/common/\"),\n",
    "    \"work_folder\": os.path.abspath(\"../\"),\n",
    "    \"output_folder\": os.path.abspath(\"../result\"),\n",
    "    \"genetic_code\": \"11\",\n",
    "}\n",
    "\n",
    "tools_settings = {\n",
    "    \"minced_options\": {\n",
    "        \"minced_binary\": \"minced\",\n",
    "        \"minced_input\": settings[\"input_file\"],\n",
    "        \"minced_output\": os.path.join(settings[\"output_folder\"], \"minced.out\"),\n",
    "        \"minced_options\": \"-gff\" % settings,\n",
    "    }\n",
    "}"
   ]
  },
  {
   "cell_type": "code",
   "execution_count": 18,
   "metadata": {},
   "outputs": [
    {
     "name": "stdout",
     "output_type": "stream",
     "text": [
      "minced /Users/miracle/super-duper-annotator/test_data/NC_000913.fna -gff /Users/miracle/super-duper-annotator/result/minced.out\n"
     ]
    },
    {
     "data": {
      "text/plain": [
       "0"
      ]
     },
     "execution_count": 18,
     "metadata": {},
     "output_type": "execute_result"
    }
   ],
   "source": [
    "minced_command_pl = '-|', \"minced -gff \\Q$outdir/$prefix.fna\\E\"\n",
    "minced_command_py_raw = \"minced -gff ../result/minced_output\"\n",
    "\n",
    "minced_command_py = \"%(minced_binary)s %(minced_input)s %(minced_options)s %(minced_output)s\" % tools_settings[\"minced_options\"]\n",
    "print(minced_command_py)\n",
    "os.system(minced_command_py)"
   ]
  },
  {
   "cell_type": "code",
   "execution_count": 21,
   "metadata": {},
   "outputs": [
    {
     "name": "stdout",
     "output_type": "stream",
     "text": [
      "Input file /Users/miracle/super-duper-annotator/Scripts/test_data/NC_000913.fna does not exist.\n",
      "\n",
      "##gff-version 3\n",
      "\n",
      "NC_000913.3\tminced:0.4.2\trepeat_region\t2877701\t2878463\t13\t.\t.\tID=CRISPR1;rpt_type=direct;rpt_family=CRISPR;rpt_unit_seq=CGGTTTATCCCTGCTGGCGCGGGGAACTC\n",
      "\n",
      "NC_000913.3\tminced:0.4.2\trepeat_region\t2904014\t2904407\t7\t.\t.\tID=CRISPR2;rpt_type=direct;rpt_family=CRISPR;rpt_unit_seq=GGTTTATCCCCGCTGGCGCGGGGAACAC\n",
      "\n",
      "##gff-version 3\n",
      "\n",
      "NC_000913.3\tminced:0.4.2\trepeat_region\t2877701\t2878463\t13\t.\t.\tID=CRISPR1;rpt_type=direct;rpt_family=CRISPR;rpt_unit_seq=CGGTTTATCCCTGCTGGCGCGGGGAACTC\n",
      "\n",
      "NC_000913.3\tminced:0.4.2\trepeat_region\t2904014\t2904407\t7\t.\t.\tID=CRISPR2;rpt_type=direct;rpt_family=CRISPR;rpt_unit_seq=GGTTTATCCCCGCTGGCGCGGGGAACAC\n",
      "\n"
     ]
    }
   ],
   "source": [
    "with open(tools_settings[\"minced_options\"][\"minced_output\"]) as fh:\n",
    "    for line in fh:\n",
    "        print(line)"
   ]
  },
  {
   "cell_type": "code",
   "execution_count": null,
   "metadata": {},
   "outputs": [],
   "source": []
  }
 ],
 "metadata": {
  "kernelspec": {
   "display_name": "Python 3",
   "language": "python",
   "name": "python3"
  },
  "language_info": {
   "codemirror_mode": {
    "name": "ipython",
    "version": 3
   },
   "file_extension": ".py",
   "mimetype": "text/x-python",
   "name": "python",
   "nbconvert_exporter": "python",
   "pygments_lexer": "ipython3",
   "version": "3.7.6"
  }
 },
 "nbformat": 4,
 "nbformat_minor": 4
}
