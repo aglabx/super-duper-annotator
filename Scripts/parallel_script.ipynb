{
 "cells": [
  {
   "cell_type": "code",
   "execution_count": 1,
   "metadata": {},
   "outputs": [],
   "source": [
    "import os\n",
    "import os.path"
   ]
  },
  {
   "cell_type": "code",
   "execution_count": 4,
   "metadata": {},
   "outputs": [],
   "source": [
    "settings = {\n",
    "    \"threads\": 32,\n",
    "    \"input_file\": os.path.abspath(\"../test_data/NC_000913.fna\"),\n",
    "    \"binary_folder\": os.path.abspath(\"./prokka/binaries/linux/\"),\n",
    "    \"binary_folder_common\": os.path.abspath(\"./prokka/binaries/common/\"),\n",
    "    \"work_folder\": os.path.abspath(\"../\"),\n",
    "    \"output_folder\": os.path.abspath(\"../result\"),\n",
    "    \"genetic_code\": \"11\",\n",
    "}\n",
    "\n",
    "tools_settings = {\n",
    "    \"parallel_options\": {\n",
    "        \"parallel_binary\": \"parallel\",\n",
    "        \"parallel_input\": settings[\"input_file\"],\n",
    "        \"parallel_options\": \"--gnu --plain -j %(threads)s --block 22707 --recstart '>' --pipe\" % settings,\n",
    "    }\n",
    "}"
   ]
  },
  {
   "cell_type": "code",
   "execution_count": 6,
   "metadata": {},
   "outputs": [
    {
     "name": "stdout",
     "output_type": "stream",
     "text": [
      "parallel --gnu --plain -j 32 --block 22707 --recstart '>' --pipe\n"
     ]
    },
    {
     "data": {
      "text/plain": [
       "65280"
      ]
     },
     "execution_count": 6,
     "metadata": {},
     "output_type": "execute_result"
    }
   ],
   "source": [
    "parallel_command_pl = \"parallel --gnu --plain\"\n",
    "parallel_command_py = \"%(parallel_binary)s %(parallel_options)s\" % tools_settings[\"parallel_options\"]\n",
    "parallel_command = \"%(parallel_binary)s %(parallel_options)s\" % tools_settings[\"parallel_options\"]\n",
    "print(parallel_command)\n",
    "os.system(parallel_command)"
   ]
  },
  {
   "cell_type": "code",
   "execution_count": null,
   "metadata": {},
   "outputs": [],
   "source": []
  }
 ],
 "metadata": {
  "kernelspec": {
   "display_name": "Python 3",
   "language": "python",
   "name": "python3"
  },
  "language_info": {
   "codemirror_mode": {
    "name": "ipython",
    "version": 3
   },
   "file_extension": ".py",
   "mimetype": "text/x-python",
   "name": "python",
   "nbconvert_exporter": "python",
   "pygments_lexer": "ipython3",
   "version": "3.7.6"
  }
 },
 "nbformat": 4,
 "nbformat_minor": 4
}
