{
 "cells": [
  {
   "cell_type": "code",
   "execution_count": 2,
   "metadata": {},
   "outputs": [],
   "source": [
    "import os\n",
    "import os.path"
   ]
  },
  {
   "cell_type": "code",
   "execution_count": 3,
   "metadata": {},
   "outputs": [],
   "source": [
    "settings = {\n",
    "    \"threads\": 32,\n",
    "    \"input_file\": os.path.abspath(\"../test_data/NC_000913.fna\"),\n",
    "    \"binary_folder\": os.path.abspath(\"../prokka/binaries/linux/\"),\n",
    "    \"binary_folder_common\": os.path.abspath(\"../prokka/binaries/common/\"),\n",
    "    \"work_folder\": os.path.abspath(\"../\"),\n",
    "    \"output_folder\": os.path.abspath(\"../result\"),\n",
    "    \"genetic_code\": \"11\",\n",
    "}\n",
    "\n",
    "tools_settings = {\n",
    "    \"barrnap_options\": {\n",
    "        \"barrnap_binary\": os.path.join(settings[\"binary_folder\"], \"barrnap\"),\n",
    "        \"barrnap_options\": \"--kingdom bac --threads %(threads)s --quiet\" % settings,\n",
    "        \"barrnap_output\": os.path.join(settings[\"output_folder\"], \"barrnap.out\"),\n",
    "        \"barrnap_input\": settings[\"input_file\"],\n",
    "    }\n",
    "}"
   ]
  },
  {
   "cell_type": "code",
   "execution_count": 4,
   "metadata": {},
   "outputs": [
    {
     "name": "stdout",
     "output_type": "stream",
     "text": [
      "barrnap --kingdom bac --threads 32 --quiet /Users/miracle/super-duper-annotator/test_data/NC_000913.fna > /Users/miracle/super-duper-annotator/result/barrnap.out\n"
     ]
    },
    {
     "data": {
      "text/plain": [
       "0"
      ]
     },
     "execution_count": 4,
     "metadata": {},
     "output_type": "execute_result"
    }
   ],
   "source": [
    "barrnap_command_pl = \"barrnap --kingdom $barrnap_mode --threads $cpus --quiet \\Q$outdir/$prefix.fna\\E\"\n",
    "\n",
    "barrnap_command_raw_py = \"barrnap --kingdom bac -thread 10 -quiet ./results/barrnupoutput.\" \n",
    "\n",
    "barrnap_command_py = \"barrnap %(barrnap_options)s %(barrnap_input)s > %(barrnap_output)s\" % tools_settings[\"barrnap_options\"]\n",
    "print(barrnap_command_py)\n",
    "os.system(barrnap_command_py)"
   ]
  },
  {
   "cell_type": "code",
   "execution_count": null,
   "metadata": {},
   "outputs": [],
   "source": []
  }
 ],
 "metadata": {
  "kernelspec": {
   "display_name": "Python 3",
   "language": "python",
   "name": "python3"
  },
  "language_info": {
   "codemirror_mode": {
    "name": "ipython",
    "version": 3
   },
   "file_extension": ".py",
   "mimetype": "text/x-python",
   "name": "python",
   "nbconvert_exporter": "python",
   "pygments_lexer": "ipython3",
   "version": "3.7.6"
  }
 },
 "nbformat": 4,
 "nbformat_minor": 4
}
