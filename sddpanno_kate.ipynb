{
 "cells": [
  {
   "cell_type": "code",
   "execution_count": 1,
   "metadata": {},
   "outputs": [],
   "source": [
    "import os\n",
    "import os.path"
   ]
  },
  {
   "cell_type": "code",
<<<<<<< HEAD
   "execution_count": 2,
=======
   "execution_count": 7,
>>>>>>> 3df590a87e2f8fb1dd3d48c8b83f8a36646a08b7
   "metadata": {},
   "outputs": [],
   "source": [
    "settings = {\n",
    "    \"threads\": 32,\n",
    "    \"input_file\": os.path.abspath(\"./test_data/NC_000913.fna\"),\n",
    "    \"binary_folder\": os.path.abspath(\"./prokka/binaries/linux/\"),\n",
    "    \"binary_folder_common\": os.path.abspath(\"./prokka/binaries/common/\"),\n",
    "    \"work_folder\": os.path.abspath(\"./\"),\n",
    "    \"output_folder\": os.path.abspath(\"./result\"),\n",
    "    \"genetic_code\": \"11\",\n",
    "}\n",
    "\n",
    "tools_settings = {\n",
    "    \"aragorn_options\": {\n",
    "        \"aragorn_binary\": os.path.join(settings[\"binary_folder\"], \"aragorn\"),\n",
    "        \"aragorn_input\": settings[\"input_file\"],\n",
    "        \"aragorn_output\": os.path.join(settings[\"output_folder\"], \"aragorn.out\"),\n",
    "        \"aragorn_options\": \"-l -gc%(genetic_code)s -w\" % settings,\n",
    "    },\n",
    "    \"barrnap_options\": {\n",
    "        \"barrnap_binary\": os.path.join(settings[\"binary_folder\"], \"barrnap\"),\n",
    "        \"barrnap_options\": \"--kingdom bac --threads %(threads)s --quiet\" % settings,\n",
    "        \"barrnap_output\": os.path.join(settings[\"output_folder\"], \"barrnap.out\"),\n",
    "        \"barrnap_input\": settings[\"input_file\"],\n",
    "    },\n",
    "    \"parallel_options\": {\n",
    "        \"parallel_binary\": os.path.join(settings[\"binary_folder_common\"], \"parallel\"),\n",
    "        \"parallel_input\": settings[\"input_file\"],\n",
    "        \"parallel_output\": os.path.join(settings[\"output_folder\"], \"parallel.out\"),\n",
    "        \"parallel_options\": \"--gnu --plain\" % settings,\n",
    "    },    \n",
    "    \"rnammer_options\": {\n",
    "        \"rnammer_binary\": os.path.join(settings[\"binary_folder\"], \"rnammer\"),\n",
    "        \"rnammer_input\": settings[\"input_file\"],\n",
    "        \"rnammer_output\": os.path.join(settings[\"output_folder\"], \"rnammer.out\"),\n",
    "        \"rnammer_options\": \"-S bac -xml ./result/rnammer.xml\" % settings,\n",
    "    },\n",
    "    \"prodigal_options\": {\n",
    "        \"prodigal_binary\": os.path.join(settings[\"binary_folder\"], \"prodigal\"),\n",
    "        \"prodigal_input\": settings[\"input_file\"],\n",
    "        \"prodigal_output\": os.path.join(settings[\"output_folder\"], \"prodigal_out.faa\"),\n",
    "        \"prodigal_options\": \"-c -m -g 11 -p single -f sco -q -a\" % settings,\n",
    "    },\n",
    "    \"signalp_options\": {\n",
    "        \"signalp_binary\": os.path.join(settings[\"binary_folder\"], \"signalp\"),\n",
    "        \"signalp_input\": settings[\"input_file\"],\n",
    "        \"signalp_output\": os.path.join(settings[\"output_folder\"], \"signalp.out\"),\n",
    "        \"signalp_options\": \"-tmp ./result -prefix ./result/signalp -org gram+ -format short -fasta\" % settings,\n",
    "    },\n",
    "}"
   ]
  },
  {
   "cell_type": "code",
   "execution_count": null,
   "metadata": {},
   "outputs": [],
   "source": []
  },
  {
   "cell_type": "code",
   "execution_count": null,
   "metadata": {},
   "outputs": [],
   "source": [
    "# create all dirictories \n",
    "for key, value in settings.items():\n",
    "    if \"folder\" in key:\n",
    "        if not os.path.isdir(value):\n",
    "            os.makedirs(value)"
   ]
  },
  {
   "cell_type": "code",
   "execution_count": null,
   "metadata": {},
   "outputs": [],
   "source": [
    "# PARALLEL\n",
    "parallel_command_pl = \"parallel --gnu --plain\"\n",
    "parallel_command_py = \"%(parallel_binary)s %(parallel_options)s\" % tools_settings[\"parallel_options\"]\n",
    "print(parallel_command_py)\n",
    "os.system(parallel_command_py)"
   ]
  },
  {
   "cell_type": "code",
   "execution_count": null,
   "metadata": {},
   "outputs": [],
   "source": [
    "# ARAGORN\n",
    "\n",
    "aragorn_command_pl = \"aragorn -l -gc$gcode $aragorn_opt -w \\Q$outdir/$prefix.fna\\E\"\n",
    "\n",
    "aragorn_command_py = \"%(aragorn_binary)s %(aragorn_options)s -o %(aragorn_output)s %(aragorn_input)s\" % tools_settings[\"aragorn_options\"]\n",
    "print(aragorn_command_py)\n",
    "os.system(aragorn_command_py) #why return not 0\n",
    "\n",
    "#"
   ]
  },
  {
   "cell_type": "code",
   "execution_count": null,
   "metadata": {},
   "outputs": [],
   "source": [
    "with open(tools_settings[\"aragorn_options\"][\"aragorn_output\"]) as fh:\n",
    "    for line in fh:\n",
    "        print(line.strip())"
   ]
  },
  {
   "cell_type": "code",
<<<<<<< HEAD
   "execution_count": 3,
   "metadata": {},
   "outputs": [
    {
     "name": "stdout",
     "output_type": "stream",
     "text": [
      "barrnap --kingdom bac --threads 32 --quiet /Users/miracle/super-duper-annotator/test_data/NC_000913.fna > /Users/miracle/super-duper-annotator/result/barrnap.out\n"
     ]
    },
    {
     "data": {
      "text/plain": [
       "0"
      ]
     },
     "execution_count": 3,
     "metadata": {},
     "output_type": "execute_result"
    }
   ],
=======
   "execution_count": null,
   "metadata": {},
   "outputs": [],
>>>>>>> 3df590a87e2f8fb1dd3d48c8b83f8a36646a08b7
   "source": [
    "# BARRNAP\n",
    "\n",
    "barrnap_command_pl = \"barrnap --kingdom $barrnap_mode --threads $cpus --quiet \\Q$outdir/$prefix.fna\\E\"\n",
    "\n",
    "barrnap_command_raw_py = \"barrnap --kingdom bac -thread 10 -quiet ./results/barrnupoutput.\" #it false maybe because barrnap_mode change depending on the kingdom\n",
    "\n",
    "barrnap_command_py = \"barrnap %(barrnap_options)s %(barrnap_input)s > %(barrnap_output)s\" % tools_settings[\"barrnap_options\"]\n",
    "print(barrnap_command_py)\n",
    "os.system(barrnap_command_py)"
   ]
  },
  {
   "cell_type": "code",
   "execution_count": null,
   "metadata": {},
   "outputs": [],
   "source": [
    "with open(tools_settings[\"barrnap_options\"][\"barrnap_output\"]) as fh:\n",
    "    for line in fh:\n",
    "        print(line.strip())"
   ]
  },
  {
   "cell_type": "code",
   "execution_count": null,
   "metadata": {},
   "outputs": [],
   "source": [
    "# RNAMMER\n",
    "\n",
    "rnammer_command_pl = \"rnammer -S $rnammer_mode $rnammer_opt -xml \\Q$rnammerfn\\E \\Q$outdir/$prefix.fna\\E\"\n",
    "\n",
    "rnammer_mode = 'bac'\n",
    "rnammer_opt = '$cpus != 1 ? \"-multi\" : \"\" '\n",
    "#and other modes and options change too\n",
    "rnammer_command_py = \"rnammer %(rnammer_options)s %(rnammer_output)s\" % tools_settings[\"rnammer_options\"]\n",
    "print(rnammer_command_py)\n",
    "os.system(rnammer_command_py)"
   ]
  },
  {
   "cell_type": "code",
   "execution_count": 9,
   "metadata": {},
   "outputs": [
    {
     "name": "stdout",
     "output_type": "stream",
     "text": [
      "/media/eternus1/projects/zilov/soft/aglab_repo_conda/super-duper-annotator/prokka/binaries/linux/prodigal -i /media/eternus1/projects/zilov/soft/aglab_repo_conda/super-duper-annotator/test_data/NC_000913.fna -c -m -g 11 -p single -f sco -q -a /media/eternus1/projects/zilov/soft/aglab_repo_conda/super-duper-annotator/result/prodigal_out.faa\n"
     ]
    }
   ],
   "source": [
    "# PRODIGAL\n",
    "\n",
    "prodigal_command_pl = \"prodigal -i \\Q$outdir/$prefix.fna\\E -c -m -g $gcode -p $prodigal_mode -f sco -q\"\n",
    "\n",
    "prodigal_mode_pl = \"$prodigal_mode = ($totalbp >= 100000 && !$metagenome) ? 'single' : 'meta'\" \n",
    "#i think we have to if/else for choice 'single' or 'meta', but imn't sure\n",
    "    \n",
    "prodigal_command_py = \"%(prodigal_binary)s -i %(prodigal_input)s %(prodigal_options)s %(prodigal_output)s\" % tools_settings[\"prodigal_options\"]\n",
    "print(prodigal_command_py)\n",
    "#os.system(prodigal_command_py)"
   ]
  },
  {
   "cell_type": "code",
   "execution_count": null,
   "metadata": {},
   "outputs": [],
   "source": [
    "# SIGNALP\n",
    "\n",
    "signalp_command_pl = \"$opts \\Q$spoutfn\\E 2> /dev/null\"\n",
    "\n",
    "#sigpver is version of SIGNALP\n",
    "#gram = gram+ or gram-\n",
    "#$opts = $sigpver==3 ? \"signalp -t $gram -f short -m hmm\" : ($sigpver==4 ? \"signalp -t $gram -f short\" : '$(which signalp)'.\" -tmp $outdir -prefix $outdir/signalp -org $gram -format short -fasta\")\n",
    "signalp_command_py = \"signalp %(signalp_options)s %(signalp_output)s 2> /dev/null\" % tools_settings[\"signalp_options\"]\n",
    "    # or signalp_command_py = \"signalp -tmp ./result -prefix ./result/signalp -org\" + ' ' + gram + ' ' + \"-format short -fasta ./result/signalp.faa 2> /dev/null\"\n",
    "print(signalp_command_py)\n",
    "os.system(signalp_command_py)"
   ]
  },
  {
   "cell_type": "code",
   "execution_count": null,
   "metadata": {},
   "outputs": [],
   "source": [
    "# MINCED\n",
    "\n",
    "minced_command_pl = '-|', \"minced -gff \\Q$outdir/$prefix.fna\\E\"\n",
    "# E - stop change case (lowercase and uppercase)\n",
    "\n",
    "minced_command_py = \"minced -gff ./result/$prefix.fna\""
   ]
  },
  {
   "cell_type": "code",
   "execution_count": null,
   "metadata": {},
   "outputs": [],
   "source": [
    "# CMSCAN\n",
    "\n",
    "cmscan_command_pl = \"cmscan -Z $dbsize --cut_ga --rfam --nohmmonly --fmt 2 --cpu $icpu --tblout /dev/stdout -o /dev/null --noali $cmdb \\Q$outdir/$prefix.fna\\E\"\n",
    "#total_bp - base pairs\n",
    "dbsize = total_bp * 2 / 1000000\n",
    "#my $icpu = $cpus || 1;\n",
    "if cpus == True:\n",
    "    icpu = cpus\n",
    "else:\n",
    "    icpu = 1\n",
    "cmdp_pl = \"$dbdir/cm/$kingdom\"\n",
    "cmdb = os.path.abspath(./prokka/db) + '/cm/' + kingdom\n",
    "cmscan_command_pl = \"cmscan -Z\" + ' ' + dbsize + ' ' +  \"--cut_ga --rfam --nohmmonly --fmt 2 --cpu\" + ' ' +  icpu + ' ' +  \"--tblout /dev/stdout -o /dev/null --noali\" + ' ' + cmdb + ' ' +  \"./result/$prefix.fna\""
   ]
  },
  {
   "cell_type": "code",
   "execution_count": null,
   "metadata": {},
   "outputs": [],
   "source": [
    "# CMPRESS\n",
    "\n",
    "cmpress_command_pl = \"cmpress \\Q$cm\\E\"\n",
    "cmpress_command_py = \"cmpress \" + os.path.abspath(./prokka/db) + '/cm/' + kingdom"
   ]
  },
  {
   "cell_type": "code",
   "execution_count": null,
   "metadata": {},
   "outputs": [],
   "source": [
    "# HMMER3\n",
    "\n",
    "hmmer3_command_pl = \"hmmscan --noali --notextw --acc -E %e --cpu 1 %d /dev/stdin\"\n",
    "#not input and i don't know if what %e and $d means"
   ]
  },
  {
   "cell_type": "code",
   "execution_count": null,
   "metadata": {},
   "outputs": [],
   "source": [
    "# HMMPRESS\n",
    "\n",
    "hmmpress_command_pl = \"hmmpress \\Q$hmm\\E\"\n",
    "hmmpress_command_py = \"hmmpress \" + os.path.abspath(./prokka/db) + '/cm/' + kingdom"
   ]
  },
  {
   "cell_type": "code",
   "execution_count": null,
   "metadata": {},
   "outputs": [],
   "source": [
    "# BLASTP\n",
    "\n",
    "blast_command_pl = \"blastp -query - -db %d -evalue %e -qcov_hsp_perc %c -num_threads 1 -num_descriptions 1 -num_alignments 1 -seg no\"\n"
   ]
  },
  {
   "cell_type": "code",
   "execution_count": null,
   "metadata": {},
   "outputs": [],
   "source": [
    "# MAKEBLASTDB\n",
    "\n",
    "makeblastdb_command1_pl = \"makeblastdb -dbtype prot -in \\Q$faa_file\\E -out \\Q$outdir/proteins\\E -logfile /dev/null\" #about proteins\n",
    "makeblastdb_command2_pl = \"makeblastdb -hash_index -dbtype prot -in \\Q$fasta\\E -logfile /dev/null\" #kingdom\n",
    "makeblastdb_command3_pl =\"makeblastdb -hash_index -dbtype prot -in \\Q$genus\\E -logfile /dev/null\" #genus"
   ]
  },
  {
   "cell_type": "code",
   "execution_count": null,
   "metadata": {},
   "outputs": [],
   "source": [
    "# TBL2ASN\n",
    "\n",
    "#runcmd(\"tbl2asn -a s -q F -A $prefix -N 1 -y 'Annotated using $EXE $VERSION from $URL' -Z $outdir/$prefix.err -M n -V b -i $outdir/$prefix.fsa -f $outdir/$prefix.tbl 2> /dev/null\");\n",
    "#runcmd(\"tbl2asn -V b -a s -A $prefix -N 1 -y 'Annotated using $EXE $VERSION from $URL' -Z $outdir/$prefix.err -i $outdir/$prefix.fsa\");\n",
    "#runcmd(\"tbl2asn -V b -a s -N 1 -y 'Annotated using $EXE $VERSION from $URL' -Z $outdir/$prefix.err -i $outdir/$prefix.fsa 2> /dev/null\");\n",
    "\n",
    "tbl2asn_command_pl = \"tbl2asn -V b -a r10k -l paired-ends $tbl2asn_opt -N $accver -y 'Annotated using $EXE $VERSION from $URL'\". \" -Z \\Q$outdir/$prefix.err\\E -i \\Q$outdir/$prefix.fsa\\E 2> /dev/null\""
   ]
  }
 ],
 "metadata": {
  "kernelspec": {
   "display_name": "Python 3",
   "language": "python",
   "name": "python3"
  },
  "language_info": {
   "codemirror_mode": {
    "name": "ipython",
    "version": 3
   },
   "file_extension": ".py",
   "mimetype": "text/x-python",
   "name": "python",
   "nbconvert_exporter": "python",
   "pygments_lexer": "ipython3",
   "version": "3.7.9"
  }
 },
 "nbformat": 4,
 "nbformat_minor": 4
}
