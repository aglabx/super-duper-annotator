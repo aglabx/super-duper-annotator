{
 "cells": [
  {
   "cell_type": "code",
   "execution_count": 1,
   "metadata": {},
   "outputs": [],
   "source": [
    "import os\n",
    "import os.path"
   ]
  },
  {
   "cell_type": "code",
   "execution_count": 2,
   "metadata": {},
   "outputs": [],
   "source": [
    "settings = {\n",
    "    \"threads\": 32,\n",
    "    \"input_file\": os.path.abspath(\"./test_data/NC_000913.fna\"),\n",
    "    \"binary_folder\": os.path.abspath(\"./prokka/binaries/linux/\"),\n",
    "    \"binary_folder_common\": os.path.abspath(\"./prokka/binaries/common/\"),\n",
    "    \"work_folder\": os.path.abspath(\"./\"),\n",
    "    \"output_folder\": os.path.abspath(\"./result\"),\n",
    "    \"genetic_code\": \"11\",\n",
    "}\n",
    "\n",
    "tools_settings = {\n",
    "    \"aragorn_options\": {\n",
    "        \"aragorn_binary\": os.path.join(settings[\"binary_folder\"], \"aragorn\"),\n",
    "        \"aragorn_input\": settings[\"input_file\"],\n",
    "        \"aragorn_output\": os.path.join(settings[\"output_folder\"], \"aragorn.out\"),\n",
    "        \"aragorn_options\": \"-l -gc%(genetic_code)s -w\" % settings,\n",
    "    },\n",
    "    \"barrnap_options\": {\n",
    "        \"barrnap_binary\": os.path.join(settings[\"binary_folder\"], \"barrnap\"),\n",
    "        \"barrnap_options\": \"--kingdom bac --threads %(threads)s --quiet\" % settings,\n",
    "        \"barrnap_output\": os.path.join(settings[\"output_folder\"], \"barrnap.out\"),\n",
    "        \"barrnap_input\": settings[\"input_file\"],\n",
    "    },\n",
    "    \"parallel_options\": {\n",
    "        \"parallel_binary\": os.path.join(settings[\"binary_folder_common\"], \"parallel\"),\n",
    "        \"parallel_input\": settings[\"input_file\"],\n",
    "        \"parallel_output\": os.path.join(settings[\"output_folder\"], \"parallel.out\"),\n",
    "        \"parallel_options\": \"--gnu --plain\" % settings,\n",
    "    },    \n",
    "    \"rnammer_options\": {\n",
    "        \"rnammer_binary\": os.path.join(settings[\"binary_folder\"], \"rnammer\"),\n",
    "        \"rnammer_input\": settings[\"input_file\"],\n",
    "        \"rnammer_output\": os.path.join(settings[\"output_folder\"], \"rnammer.out\"),\n",
    "        \"rnammer_options\": \"-S bac -xml ./result/rnammer.xml\" % settings,\n",
    "    },\n",
    "    \"prodigal_options\": {\n",
    "        \"prodigal_binary\": os.path.join(settings[\"binary_folder\"], \"prodigal\"),\n",
    "        \"prodigal_input\": settings[\"input_file\"],\n",
    "        \"prodigal_output\": os.path.join(settings[\"output_folder\"], \"prodigal.out\"),\n",
    "        \"prodigal_options\": \"-c -m -g 11 -p single -f sco -q\" % settings,\n",
    "    },\n",
    "    \"signalp_options\": {\n",
    "        \"signalp_binary\": os.path.join(settings[\"binary_folder\"], \"signalp\"),\n",
    "        \"signalp_input\": settings[\"input_file\"],\n",
    "        \"signalp_output\": os.path.join(settings[\"output_folder\"], \"signalp.out\"),\n",
    "        \"signalp_options\": \"-tmp ./result -prefix ./result/signalp -org gram+ -format short -fasta\" % settings,\n",
    "    },\n",
    "}"
   ]
  },
  {
   "cell_type": "code",
   "execution_count": null,
   "metadata": {},
   "outputs": [],
   "source": []
  },
  {
   "cell_type": "code",
   "execution_count": 5,
   "metadata": {},
   "outputs": [],
   "source": [
    "# create all dirictories \n",
    "for key, value in settings.items():\n",
    "    if \"folder\" in key:\n",
    "        if not os.path.isdir(value):\n",
    "            os.makedirs(value)"
   ]
  },
  {
   "cell_type": "code",
   "execution_count": 6,
   "metadata": {},
   "outputs": [
    {
     "name": "stdout",
     "output_type": "stream",
     "text": [
      "/Users/miracle/super-duper-annotator/prokka/binaries/common/parallel --gnu --plain\n"
     ]
    },
    {
     "data": {
      "text/plain": [
       "0"
      ]
     },
     "execution_count": 6,
     "metadata": {},
     "output_type": "execute_result"
    }
   ],
   "source": [
    "# PARALLEL\n",
    "parallel_command_pl = \"parallel --gnu --plain\"\n",
    "parallel_command_py = \"%(parallel_binary)s %(parallel_options)s\" % tools_settings[\"parallel_options\"]\n",
    "print(parallel_command_py)\n",
    "os.system(parallel_command_py)"
   ]
  },
  {
   "cell_type": "code",
   "execution_count": 8,
   "metadata": {},
   "outputs": [
    {
     "name": "stdout",
     "output_type": "stream",
     "text": [
      "/Users/miracle/super-duper-annotator/prokka/binaries/linux/aragorn -l -gc11 -w -o /Users/miracle/super-duper-annotator/result/aragorn.out /Users/miracle/super-duper-annotator/test_data/NC_000913.fna\n"
     ]
    },
    {
     "data": {
      "text/plain": [
       "32256"
      ]
     },
     "execution_count": 8,
     "metadata": {},
     "output_type": "execute_result"
    }
   ],
   "source": [
    "# ARAGORN\n",
    "\n",
    "aragorn_command_pl = \"aragorn -l -gc$gcode $aragorn_opt -w \\Q$outdir/$prefix.fna\\E\"\n",
    "\n",
    "aragorn_command_py = \"%(aragorn_binary)s %(aragorn_options)s -o %(aragorn_output)s %(aragorn_input)s\" % tools_settings[\"aragorn_options\"]\n",
    "print(aragorn_command_py)\n",
    "os.system(aragorn_command_py) #why return not 0\n",
    "\n",
    "#"
   ]
  },
  {
   "cell_type": "code",
   "execution_count": 9,
   "metadata": {},
   "outputs": [
    {
     "name": "stdout",
     "output_type": "stream",
     "text": [
      ">NC_000913.3 Escherichia coli str. K-12 substr. MG1655, complete genome\n",
      "89 genes found\n",
      "1   tRNA-Ile               [225381,225457]\t35  \t(gat)\n",
      "2   tRNA-Ala               [225500,225575]\t34  \t(tgc)\n",
      "3   tRNA-Asp               [228928,229004]\t35  \t(gtc)\n",
      "4   tRNA-Asp               [236931,237007]\t35  \t(gtc)\n",
      "5   tRNA-Thr               [262871,262946]\t34  \t(cgt)\n",
      "6   tRNA-Ser               [345334,345414]\t38  \t(gga)\n",
      "7   tRNA-Arg               [564723,564799]\t35  \t(tct)\n",
      "8   tRNA-Gln              c[696430,696504]\t33  \t(ctg)\n",
      "9   tRNA-Gln              c[696542,696616]\t33  \t(ctg)\n",
      "10  tRNA-Met              c[696664,696740]\t35  \t(cat)\n",
      "11  tRNA-Gln              c[696756,696830]\t33  \t(ttg)\n",
      "12  tRNA-Gln              c[696865,696939]\t33  \t(ttg)\n",
      "13  tRNA-Leu              c[696963,697047]\t35  \t(tag)\n",
      "14  tRNA-Met              c[697057,697133]\t35  \t(cat)\n",
      "15  tRNA-Lys               [780554,780629]\t34  \t(ttt)\n",
      "16  tRNA-Val               [780765,780840]\t34  \t(tac)\n",
      "17  tRNA-Lys               [780843,780918]\t34  \t(ttt)\n",
      "18  tRNA-Val               [781068,781143]\t34  \t(tac)\n",
      "19  tRNA-Lys               [781147,781222]\t34  \t(ttt)\n",
      "20  tRNA-Lys               [781369,781444]\t34  \t(ttt)\n",
      "21  tRNA-Lys               [781577,781652]\t34  \t(ttt)\n",
      "22  tRNA-Ser              c[925884,925971]\t35  \t(gga)\n",
      "23  tRNA-Ser            c[1031625,1031712]\t35  \t(tga)\n",
      "24  tRNA-Ser            c[1097565,1097652]\t35  \t(gga)\n",
      "25  tRNA-Tyr            c[1287244,1287328]\t35  \t(gta)\n",
      "26  tRNA-Tyr            c[1287538,1287622]\t35  \t(gta)\n",
      "27  tRNA-Val             [1746435,1746511]\t35  \t(gac)\n",
      "28  tRNA-Val             [1746516,1746592]\t35  \t(gac)\n",
      "29  tRNA-Leu            c[1991815,1991901]\t35  \t(taa)\n",
      "30  tRNA-Cys            c[1991914,1991987]\t33  \t(gca)\n",
      "31  tRNA-Gly            c[1992042,1992117]\t34  \t(gcc)\n",
      "32  tRNA-Ser            c[2043468,2043557]\t35  \t(cga)\n",
      "33  tRNA-Asn             [2044549,2044624]\t34  \t(gtt)\n",
      "34  tRNA-Asn            c[2058027,2058102]\t34  \t(gtt)\n",
      "35  tRNA-Asn             [2059851,2059926]\t34  \t(gtt)\n",
      "36  tRNA-Asn             [2062260,2062335]\t34  \t(gtt)\n",
      "37  tRNA-Pro             [2286211,2286287]\t35  \t(ggg)\n",
      "38  tRNA-Arg             [2466309,2466383]\t34  \t(cct)\n",
      "39  tRNA-Ala            c[2518041,2518116]\t34  \t(ggc)\n",
      "40  tRNA-Ala            c[2518156,2518231]\t34  \t(ggc)\n",
      "41  tRNA-Val             [2520931,2521006]\t34  \t(tac)\n",
      "42  tRNA-Val             [2521051,2521126]\t34  \t(tac)\n",
      "43  tRNA-Val             [2521173,2521248]\t34  \t(tac)\n",
      "44  tRNA-Lys             [2521253,2521328]\t34  \t(ttt)\n",
      "45  tRNA-Glu            c[2729369,2729444]\t35  \t(ttc)\n",
      "46  tmRNA                [2755593,2755955]\t90,125\tANDENYALAA**\n",
      "47  tRNA-Met            c[2785762,2785837]\t34  \t(cat)\n",
      "48  tRNA-Arg            c[2817784,2817860]\t35  \t(acg)\n",
      "49  tRNA-Arg            c[2818059,2818135]\t35  \t(acg)\n",
      "50  tRNA-Arg            c[2818198,2818274]\t35  \t(acg)\n",
      "51  tRNA-Arg             [2818458,2818529]\t34  \t(tcg)\n",
      "52  tRNA-Arg            c[2818473,2818549]\t35  \t(acg)\n",
      "53  tRNA-Ser            c[2818553,2818645]\t35  \t(gct)\n",
      "54  tRNA-Met             [2947387,2947463]\t35  \t(cat)\n",
      "55  tRNA-Met             [2947497,2947573]\t35  \t(cat)\n",
      "56  tRNA-Met             [2947607,2947683]\t35  \t(cat)\n",
      "57  tRNA-Gly            c[2998984,2999057]\t33  \t(ccc)\n",
      "58  tRNA-Phe             [3110366,3110441]\t34  \t(gaa)\n",
      "59  tRNA-Met             [3215598,3215673]\t34  \t(cat)\n",
      "60  tRNA-Met            c[3318213,3318289]\t35  \t(cat)\n",
      "61  tRNA-Leu            c[3322072,3322158]\t35  \t(gag)\n",
      "62  tRNA-Thr            c[3423580,3423655]\t34  \t(ggt)\n",
      "63  tRNA-Ala            c[3426958,3427033]\t34  \t(tgc)\n",
      "64  tRNA-Ile            c[3427076,3427152]\t35  \t(gat)\n",
      "65  tRNA-Pro            c[3708616,3708692]\t35  \t(cgg)\n",
      "66  tRNA-SeC             [3836222,3836316]\t35  \t(tca)\n",
      "67  tRNA-Glu             [3943435,3943510]\t35  \t(ttc)\n",
      "68  tRNA-Asp             [3946872,3946948]\t35  \t(gtc)\n",
      "69  tRNA-Trp             [3946957,3947032]\t34  \t(cca)\n",
      "70  tRNA-Arg             [3982375,3982451]\t35  \t(ccg)\n",
      "71  tRNA-His             [3982510,3982585]\t34  \t(gtg)\n",
      "72  tRNA-Leu             [3982606,3982692]\t35  \t(cag)\n",
      "73  tRNA-Pro             [3982735,3982811]\t35  \t(tgg)\n",
      "74  tRNA-Ile             [4037141,4037217]\t35  \t(gat)\n",
      "75  tRNA-Ala             [4037260,4037335]\t34  \t(tgc)\n",
      "76  tRNA-Glu             [4168372,4168447]\t35  \t(ttc)\n",
      "77  tRNA-Thr             [4175388,4175463]\t34  \t(tgt)\n",
      "78  tRNA-Tyr             [4175472,4175556]\t35  \t(gta)\n",
      "79  tRNA-Gly             [4175673,4175747]\t34  \t(tcc)\n",
      "80  tRNA-Thr             [4175754,4175829]\t34  \t(ggt)\n",
      "81  tRNA-Glu             [4209774,4209849]\t35  \t(ttc)\n",
      "82  tRNA-Phe            c[4362551,4362626]\t34  \t(gaa)\n",
      "83  tRNA-Gly             [4392360,4392435]\t34  \t(gcc)\n",
      "84  tRNA-Gly             [4392472,4392547]\t34  \t(gcc)\n",
      "85  tRNA-Gly             [4392583,4392658]\t34  \t(gcc)\n",
      "86  tRNA-Leu             [4496405,4496489]\t35  \t(caa)\n",
      "87  tRNA-Leu            c[4606079,4606165]\t35  \t(cag)\n",
      "88  tRNA-Leu            c[4606200,4606286]\t35  \t(cag)\n",
      "89  tRNA-Leu            c[4606315,4606401]\t35  \t(cag)\n"
     ]
    }
   ],
   "source": [
    "with open(tools_settings[\"aragorn_options\"][\"aragorn_output\"]) as fh:\n",
    "    for line in fh:\n",
    "        print(line.strip())"
   ]
  },
  {
   "cell_type": "code",
   "execution_count": 3,
   "metadata": {},
   "outputs": [
    {
     "name": "stdout",
     "output_type": "stream",
     "text": [
      "barrnap --kingdom bac --threads 32 --quiet /Users/miracle/super-duper-annotator/test_data/NC_000913.fna > /Users/miracle/super-duper-annotator/result/barrnap.out\n"
     ]
    },
    {
     "data": {
      "text/plain": [
       "0"
      ]
     },
     "execution_count": 3,
     "metadata": {},
     "output_type": "execute_result"
    }
   ],
   "source": [
    "# BARRNAP\n",
    "\n",
    "barrnap_command_pl = \"barrnap --kingdom $barrnap_mode --threads $cpus --quiet \\Q$outdir/$prefix.fna\\E\"\n",
    "\n",
    "barrnap_command_raw_py = \"barrnap --kingdom bac -thread 10 -quiet ./results/barrnupoutput.\" #it false maybe because barrnap_mode change depending on the kingdom\n",
    "\n",
    "barrnap_command_py = \"barrnap %(barrnap_options)s %(barrnap_input)s > %(barrnap_output)s\" % tools_settings[\"barrnap_options\"]\n",
    "print(barrnap_command_py)\n",
    "os.system(barrnap_command_py)"
   ]
  },
  {
   "cell_type": "code",
   "execution_count": 11,
   "metadata": {},
   "outputs": [
    {
     "name": "stdout",
     "output_type": "stream",
     "text": [
      "##gff-version 3\n",
      "NC_000913.3\tbarrnap:0.9\trRNA\t223774\t225311\t0\t+\t.\tName=16S_rRNA;product=16S ribosomal RNA\n",
      "NC_000913.3\tbarrnap:0.9\trRNA\t225761\t228661\t0\t+\t.\tName=23S_rRNA;product=23S ribosomal RNA\n",
      "NC_000913.3\tbarrnap:0.9\trRNA\t228760\t228870\t1.9e-11\t+\t.\tName=5S_rRNA;product=5S ribosomal RNA\n",
      "NC_000913.3\tbarrnap:0.9\trRNA\t2726074\t2726184\t1.9e-11\t-\t.\tName=5S_rRNA;product=5S ribosomal RNA\n",
      "NC_000913.3\tbarrnap:0.9\trRNA\t2726282\t2729182\t0\t-\t.\tName=23S_rRNA;product=23S ribosomal RNA\n",
      "NC_000913.3\tbarrnap:0.9\trRNA\t2729617\t2731154\t0\t-\t.\tName=16S_rRNA;product=16S ribosomal RNA\n",
      "NC_000913.3\tbarrnap:0.9\trRNA\t3423428\t3423538\t4.4e-11\t-\t.\tName=5S_rRNA;product=5S ribosomal RNA\n",
      "NC_000913.3\tbarrnap:0.9\trRNA\t3423673\t3423783\t1.9e-11\t-\t.\tName=5S_rRNA;product=5S ribosomal RNA\n",
      "NC_000913.3\tbarrnap:0.9\trRNA\t3423881\t3426781\t0\t-\t.\tName=23S_rRNA;product=23S ribosomal RNA\n",
      "NC_000913.3\tbarrnap:0.9\trRNA\t3427222\t3428759\t0\t-\t.\tName=16S_rRNA;product=16S ribosomal RNA\n",
      "NC_000913.3\tbarrnap:0.9\trRNA\t3941811\t3943348\t0\t+\t.\tName=16S_rRNA;product=16S ribosomal RNA\n",
      "NC_000913.3\tbarrnap:0.9\trRNA\t3943706\t3946606\t0\t+\t.\tName=23S_rRNA;product=23S ribosomal RNA\n",
      "NC_000913.3\tbarrnap:0.9\trRNA\t3946704\t3946814\t1.9e-11\t+\t.\tName=5S_rRNA;product=5S ribosomal RNA\n",
      "NC_000913.3\tbarrnap:0.9\trRNA\t4035534\t4037071\t0\t+\t.\tName=16S_rRNA;product=16S ribosomal RNA\n",
      "NC_000913.3\tbarrnap:0.9\trRNA\t4037521\t4040422\t0\t+\t.\tName=23S_rRNA;product=23S ribosomal RNA\n",
      "NC_000913.3\tbarrnap:0.9\trRNA\t4040521\t4040631\t2.5e-11\t+\t.\tName=5S_rRNA;product=5S ribosomal RNA\n",
      "NC_000913.3\tbarrnap:0.9\trRNA\t4166662\t4168199\t0\t+\t.\tName=16S_rRNA;product=16S ribosomal RNA\n",
      "NC_000913.3\tbarrnap:0.9\trRNA\t4168643\t4171543\t0\t+\t.\tName=23S_rRNA;product=23S ribosomal RNA\n",
      "NC_000913.3\tbarrnap:0.9\trRNA\t4171641\t4171751\t6.5e-11\t+\t.\tName=5S_rRNA;product=5S ribosomal RNA\n",
      "NC_000913.3\tbarrnap:0.9\trRNA\t4208150\t4209687\t0\t+\t.\tName=16S_rRNA;product=16S ribosomal RNA\n",
      "NC_000913.3\tbarrnap:0.9\trRNA\t4210045\t4212945\t0\t+\t.\tName=23S_rRNA;product=23S ribosomal RNA\n",
      "NC_000913.3\tbarrnap:0.9\trRNA\t4213044\t4213154\t6.5e-11\t+\t.\tName=5S_rRNA;product=5S ribosomal RNA\n"
     ]
    }
   ],
   "source": [
    "with open(tools_settings[\"barrnap_options\"][\"barrnap_output\"]) as fh:\n",
    "    for line in fh:\n",
    "        print(line.strip())"
   ]
  },
  {
   "cell_type": "code",
   "execution_count": 44,
   "metadata": {},
   "outputs": [
    {
     "name": "stdout",
     "output_type": "stream",
     "text": [
      "rnammer -S bac -xml ./result/rnammer.xml -o /Users/miracle/super-duper-annotator/result/rnammer.out /Users/miracle/super-duper-annotator/test_data/NC_000913.fna\n"
     ]
    },
    {
     "data": {
      "text/plain": [
       "32512"
      ]
     },
     "execution_count": 44,
     "metadata": {},
     "output_type": "execute_result"
    }
   ],
   "source": [
    "# RNAMMER\n",
    "\n",
    "rnammer_command_pl = \"rnammer -S $rnammer_mode $rnammer_opt -xml \\Q$rnammerfn\\E \\Q$outdir/$prefix.fna\\E\"\n",
    "\n",
    "rnammer_mode = 'bac'\n",
    "rnammer_opt = '$cpus != 1 ? \"-multi\" : \"\" '\n",
    "#and other modes and options change too\n",
    "rnammer_command_py = \"rnammer %(rnammer_options)s %(rnammer_output)s\" % tools_settings[\"rnammer_options\"]\n",
    "print(rnammer_command_py)\n",
    "os.system(rnammer_command_py)"
   ]
  },
  {
   "cell_type": "code",
   "execution_count": 43,
   "metadata": {},
   "outputs": [
    {
     "name": "stdout",
     "output_type": "stream",
     "text": [
      "/Users/miracle/super-duper-annotator/prokka/binaries/linux/prodigal -i /Users/miracle/super-duper-annotator/result/prodigal.out -c -m -g 11 -p single -f sco -q\n"
     ]
    },
    {
     "data": {
      "text/plain": [
       "32256"
      ]
     },
     "execution_count": 43,
     "metadata": {},
     "output_type": "execute_result"
    }
   ],
   "source": [
    "# PRODIGAL\n",
    "\n",
    "prodigal_command_pl = \"prodigal -i \\Q$outdir/$prefix.fna\\E -c -m -g $gcode -p $prodigal_mode -f sco -q\"\n",
    "\n",
    "prodigal_mode_pl = \"$prodigal_mode = ($totalbp >= 100000 && !$metagenome) ? 'single' : 'meta'\" \n",
    "#i think we have to if/else for choice 'single' or 'meta', but imn't sure\n",
    "    \n",
    "prodigal_command_py = \"%(prodigal_binary)s -i %(prodigal_output)s %(prodigal_options)s\" % tools_settings[\"prodigal_options\"]\n",
    "print(prodigal_command_py)\n",
    "os.system(prodigal_command_py)"
   ]
  },
  {
   "cell_type": "code",
   "execution_count": 52,
   "metadata": {},
   "outputs": [
    {
     "name": "stdout",
     "output_type": "stream",
     "text": [
      "signalp -tmp ./result -prefix ./result/signalp -org gram+ -format short -fasta /Users/miracle/super-duper-annotator/result/signalp.out 2> /dev/null\n"
     ]
    },
    {
     "data": {
      "text/plain": [
       "32512"
      ]
     },
     "execution_count": 52,
     "metadata": {},
     "output_type": "execute_result"
    }
   ],
   "source": [
    "# SIGNALP\n",
    "\n",
    "signalp_command_pl = \"$opts \\Q$spoutfn\\E 2> /dev/null\"\n",
    "\n",
    "#sigpver is version of SIGNALP\n",
    "#gram = gram+ or gram-\n",
    "#$opts = $sigpver==3 ? \"signalp -t $gram -f short -m hmm\" : ($sigpver==4 ? \"signalp -t $gram -f short\" : '$(which signalp)'.\" -tmp $outdir -prefix $outdir/signalp -org $gram -format short -fasta\")\n",
    "signalp_command_py = \"signalp %(signalp_options)s %(signalp_output)s 2> /dev/null\" % tools_settings[\"signalp_options\"]\n",
    "    # or signalp_command_py = \"signalp -tmp ./result -prefix ./result/signalp -org\" + ' ' + gram + ' ' + \"-format short -fasta ./result/signalp.faa 2> /dev/null\"\n",
    "print(signalp_command_py)\n",
    "os.system(signalp_command_py)"
   ]
  },
  {
   "cell_type": "code",
   "execution_count": null,
   "metadata": {},
   "outputs": [],
   "source": [
    "# MINCED\n",
    "\n",
    "minced_command_pl = '-|', \"minced -gff \\Q$outdir/$prefix.fna\\E\"\n",
    "# E - stop change case (lowercase and uppercase)\n",
    "\n",
    "minced_command_py = \"minced -gff ./result/$prefix.fna\""
   ]
  },
  {
   "cell_type": "code",
   "execution_count": null,
   "metadata": {},
   "outputs": [],
   "source": [
    "# CMSCAN\n",
    "\n",
    "cmscan_command_pl = \"cmscan -Z $dbsize --cut_ga --rfam --nohmmonly --fmt 2 --cpu $icpu --tblout /dev/stdout -o /dev/null --noali $cmdb \\Q$outdir/$prefix.fna\\E\"\n",
    "#total_bp - base pairs\n",
    "dbsize = total_bp * 2 / 1000000\n",
    "#my $icpu = $cpus || 1;\n",
    "if cpus == True:\n",
    "    icpu = cpus\n",
    "else:\n",
    "    icpu = 1\n",
    "cmdp_pl = \"$dbdir/cm/$kingdom\"\n",
    "cmdb = os.path.abspath(./prokka/db) + '/cm/' + kingdom\n",
    "cmscan_command_pl = \"cmscan -Z\" + ' ' + dbsize + ' ' +  \"--cut_ga --rfam --nohmmonly --fmt 2 --cpu\" + ' ' +  icpu + ' ' +  \"--tblout /dev/stdout -o /dev/null --noali\" + ' ' + cmdb + ' ' +  \"./result/$prefix.fna\""
   ]
  },
  {
   "cell_type": "code",
   "execution_count": null,
   "metadata": {},
   "outputs": [],
   "source": [
    "# CMPRESS\n",
    "\n",
    "cmpress_command_pl = \"cmpress \\Q$cm\\E\"\n",
    "cmpress_command_py = \"cmpress \" + os.path.abspath(./prokka/db) + '/cm/' + kingdom"
   ]
  },
  {
   "cell_type": "code",
   "execution_count": 4,
   "metadata": {},
   "outputs": [
    {
     "name": "stdout",
     "output_type": "stream",
     "text": [
      "hmmscan --noali --notextw --acc -E %e --cpu 1 %d /dev/stdin\n"
     ]
    },
    {
     "data": {
      "text/plain": [
       "256"
      ]
     },
     "execution_count": 4,
     "metadata": {},
     "output_type": "execute_result"
    }
   ],
   "source": [
    "# HMMER3\n",
    "\n",
    "hmmer3_command_pl = \"hmmscan --noali --notextw --acc -E %e --cpu 1 %d /dev/stdin\"\n",
    "#not input and i don't know if what %e and $d means"
   ]
  },
  {
   "cell_type": "code",
   "execution_count": null,
   "metadata": {},
   "outputs": [],
   "source": [
    "# HMMPRESS\n",
    "\n",
    "hmmpress_command_pl = \"hmmpress \\Q$hmm\\E\"\n",
    "hmmpress_command_py = \"hmmpress \" + os.path.abspath(./prokka/db) + '/cm/' + kingdom"
   ]
  },
  {
   "cell_type": "code",
   "execution_count": 1,
   "metadata": {},
   "outputs": [],
   "source": [
    "# BLASTP\n",
    "\n",
    "blast_command_pl = \"blastp -query - -db %d -evalue %e -qcov_hsp_perc %c -num_threads 1 -num_descriptions 1 -num_alignments 1 -seg no\"\n"
   ]
  },
  {
   "cell_type": "code",
   "execution_count": null,
   "metadata": {},
   "outputs": [],
   "source": [
    "# MAKEBLASTDB\n",
    "\n",
    "makeblastdb_command1_pl = \"makeblastdb -dbtype prot -in \\Q$faa_file\\E -out \\Q$outdir/proteins\\E -logfile /dev/null\" #about proteins\n",
    "makeblastdb_command2_pl = \"makeblastdb -hash_index -dbtype prot -in \\Q$fasta\\E -logfile /dev/null\" #kingdom\n",
    "makeblastdb_command3_pl =\"makeblastdb -hash_index -dbtype prot -in \\Q$genus\\E -logfile /dev/null\" #genus"
   ]
  },
  {
   "cell_type": "code",
   "execution_count": null,
   "metadata": {},
   "outputs": [],
   "source": [
    "# TBL2ASN\n",
    "\n",
    "#runcmd(\"tbl2asn -a s -q F -A $prefix -N 1 -y 'Annotated using $EXE $VERSION from $URL' -Z $outdir/$prefix.err -M n -V b -i $outdir/$prefix.fsa -f $outdir/$prefix.tbl 2> /dev/null\");\n",
    "#runcmd(\"tbl2asn -V b -a s -A $prefix -N 1 -y 'Annotated using $EXE $VERSION from $URL' -Z $outdir/$prefix.err -i $outdir/$prefix.fsa\");\n",
    "#runcmd(\"tbl2asn -V b -a s -N 1 -y 'Annotated using $EXE $VERSION from $URL' -Z $outdir/$prefix.err -i $outdir/$prefix.fsa 2> /dev/null\");\n",
    "\n",
    "tbl2asn_command_pl = \"tbl2asn -V b -a r10k -l paired-ends $tbl2asn_opt -N $accver -y 'Annotated using $EXE $VERSION from $URL'\". \" -Z \\Q$outdir/$prefix.err\\E -i \\Q$outdir/$prefix.fsa\\E 2> /dev/null\""
   ]
  }
 ],
 "metadata": {
  "kernelspec": {
   "display_name": "Python 3",
   "language": "python",
   "name": "python3"
  },
  "language_info": {
   "codemirror_mode": {
    "name": "ipython",
    "version": 3
   },
   "file_extension": ".py",
   "mimetype": "text/x-python",
   "name": "python",
   "nbconvert_exporter": "python",
   "pygments_lexer": "ipython3",
   "version": "3.7.6"
  }
 },
 "nbformat": 4,
 "nbformat_minor": 4
}
