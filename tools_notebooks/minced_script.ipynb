{
 "cells": [
  {
   "cell_type": "code",
   "execution_count": 1,
   "metadata": {},
   "outputs": [],
   "source": [
    "import os\n",
    "import os.path"
   ]
  },
  {
   "cell_type": "code",
   "execution_count": 10,
   "metadata": {},
   "outputs": [],
   "source": [
    "settings = {\n",
    "    \"threads\": 32,\n",
    "    \"input_file\": os.path.abspath(\"./test_data/NC_000913.fna\"),\n",
    "    \"binary_folder\": os.path.abspath(\"../prokka/binaries/linux/\"),\n",
    "    \"binary_folder_common\": os.path.abspath(\"../prokka/binaries/common/\"),\n",
    "    \"work_folder\": os.path.abspath(\"../\"),\n",
    "    \"output_folder\": os.path.abspath(\"../result\"),\n",
    "    \"genetic_code\": \"11\",\n",
    "}\n",
    "\n",
    "tools_settings = {\n",
    "    \"minced_options\": {\n",
    "        \"minced_binary\": \"minced\",\n",
    "        \"minced_input\": settings[\"input_file\"],\n",
    "        \"minced_output\": os.path.join(settings[\"output_folder\"], \"minced.out\"),\n",
    "        \"minced_options\": \"-gff\" % settings,\n",
    "    }\n",
    "}"
   ]
  },
  {
   "cell_type": "code",
   "execution_count": 11,
   "metadata": {},
   "outputs": [
    {
     "name": "stdout",
     "output_type": "stream",
     "text": [
      "minced -gff /Users/miracle/super-duper-annotator/result/minced.out\n"
     ]
    },
    {
     "data": {
      "text/plain": [
       "0"
      ]
     },
     "execution_count": 11,
     "metadata": {},
     "output_type": "execute_result"
    }
   ],
   "source": [
    "minced_command_pl = '-|', \"minced -gff \\Q$outdir/$prefix.fna\\E\"\n",
    "minced_command_py_raw = \"minced -gff ../result/minced_output\"\n",
    "\n",
    "minced_command_py = \"%(minced_binary)s %(minced_options)s %(minced_output)s\" % tools_settings[\"minced_options\"]\n",
    "print(minced_command_py)\n",
    "os.system(minced_command_py)"
   ]
  },
  {
   "cell_type": "code",
   "execution_count": null,
   "metadata": {},
   "outputs": [],
   "source": []
  }
 ],
 "metadata": {
  "kernelspec": {
   "display_name": "Python 3",
   "language": "python",
   "name": "python3"
  },
  "language_info": {
   "codemirror_mode": {
    "name": "ipython",
    "version": 3
   },
   "file_extension": ".py",
   "mimetype": "text/x-python",
   "name": "python",
   "nbconvert_exporter": "python",
   "pygments_lexer": "ipython3",
   "version": "3.7.6"
  }
 },
 "nbformat": 4,
 "nbformat_minor": 4
}
