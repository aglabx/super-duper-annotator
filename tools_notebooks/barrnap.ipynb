{
 "cells": [
  {
   "cell_type": "code",
   "execution_count": null,
   "id": "5cb4bca2",
   "metadata": {},
   "outputs": [],
   "source": [
    "import os\n",
    "import os.path"
   ]
  },
  {
   "cell_type": "code",
   "execution_count": null,
   "id": "00e4430d",
   "metadata": {},
   "outputs": [],
   "source": [
    "settings = {\n",
    "    \"threads\": 32,\n",
    "    \"input_file\": os.path.abspath(\"./test_data/NC_000913.fna\"),\n",
    "    \"binary_folder\": os.path.abspath(\"./prokka/binaries/linux/\"),\n",
    "    \"work_folder\": os.path.abspath(\"./\"),\n",
    "    \"output_folder\": os.path.abspath(\"./result\"),\n",
    "    \"aragorn_genetic_code\": \"11\",\n",
    "    \"barrnap_kingdom\": \"bac\",\n",
    "    \"blastp_is\" : os.path.abspath(\"./prokka/db/kingdom/Bacteria/IS\")\n",
    "}\n",
    "\n",
    "tools_settings = {\n",
    "    \"barrnap_options\": {\n",
    "        \"barrnap_binary\": os.path.join(settings[\"binary_folder\"], \"barrnap\"),\n",
    "        \"barrnap_options\": \"--kingdom %(barrnap_kingdom)s --threads %(threads)s --quiet\" % settings,\n",
    "        \"barrnap_output\": os.path.join(settings[\"output_folder\"], \"barrnap.out\"),\n",
    "        \"barrnap_input\": settings[\"input_file\"],\n",
    "    }\n",
    "}"
   ]
  },
  {
   "cell_type": "code",
   "execution_count": null,
   "id": "f6784667",
   "metadata": {},
   "outputs": [],
   "source": [
    "# BARRNAP\n",
    "\n",
    "barrnap_command_pl = \"barrnap --kingdom $barrnap_mode --threads $cpus --quiet \\Q$outdir/$prefix.fna\\E\"\n",
    "\n",
    "barrnap_command_raw_py = \"barrnap --kingdom bac -thread 10 -quiet ./results/barrnupoutput.\"\n",
    "\n",
    "barrnap_command_py = \"barrnap %(barrnap_options)s %(barrnap_input)s > %(barrnap_output)s\" % tools_settings[\"barrnap_options\"]\n",
    "print(barrnap_command_py)"
   ]
  },
  {
   "cell_type": "code",
   "execution_count": null,
   "id": "82d6e937",
   "metadata": {},
   "outputs": [],
   "source": [
    "os.system(barrnap_command_py)"
   ]
  },
  {
   "cell_type": "code",
   "execution_count": null,
   "id": "1c7a1220",
   "metadata": {},
   "outputs": [],
   "source": [
    "with open(tools_settings[\"barrnap_options\"][\"barrnap_output\"]) as fh:\n",
    "    for line in fh:\n",
    "        print(line.strip())"
   ]
  }
 ],
 "metadata": {
  "kernelspec": {
   "display_name": "Python 3",
   "language": "python",
   "name": "python3"
  },
  "language_info": {
   "codemirror_mode": {
    "name": "ipython",
    "version": 3
   },
   "file_extension": ".py",
   "mimetype": "text/x-python",
   "name": "python",
   "nbconvert_exporter": "python",
   "pygments_lexer": "ipython3",
   "version": "3.8.5"
  }
 },
 "nbformat": 4,
 "nbformat_minor": 5
}
