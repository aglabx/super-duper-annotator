{
 "cells": [
  {
   "cell_type": "code",
   "execution_count": 1,
   "metadata": {},
   "outputs": [],
   "source": [
    "import os\n",
    "import os.path"
   ]
  },
  {
   "cell_type": "code",
   "execution_count": 2,
   "metadata": {},
   "outputs": [],
   "source": [
    "settings = {\n",
    "    \"threads\": 32,\n",
    "    \"input_file\": os.path.abspath(\"../test_data/NC_000913.fna\"),\n",
    "    \"binary_folder\": os.path.abspath(\"./prokka/binaries/linux/\"),\n",
    "    \"binary_folder_common\": os.path.abspath(\"./prokka/binaries/common/\"),\n",
    "    \"work_folder\": os.path.abspath(\"../\"),\n",
    "    \"output_folder\": os.path.abspath(\"../result\"),\n",
    "    \"genetic_code\": \"11\",\n",
    "}\n",
    "\n",
    "tools_settings = {\n",
    "    \"rnammer_options\": {\n",
    "        \"rnammer_binary\": os.path.join(settings[\"binary_folder\"], \"rnammer\"),\n",
    "        \"rnammer_input\": settings[\"input_file\"],\n",
    "        \"rnammer_output\": os.path.join(settings[\"output_folder\"], \"rnammer.out\"),\n",
    "        \"rnammer_options\": \"-S bac -xml ./result/rnammer.xml\" % settings,\n",
    "    }\n",
    "}"
   ]
  },
  {
   "cell_type": "code",
   "execution_count": 3,
   "metadata": {},
   "outputs": [
    {
     "name": "stdout",
     "output_type": "stream",
     "text": [
      "rnammer -S bac -xml ./result/rnammer.xml /Users/miracle/super-duper-annotator/result/rnammer.out\n"
     ]
    },
    {
     "data": {
      "text/plain": [
       "32512"
      ]
     },
     "execution_count": 3,
     "metadata": {},
     "output_type": "execute_result"
    }
   ],
   "source": [
    "# RNAMMER\n",
    "\n",
    "rnammer_command_pl = \"rnammer -S $rnammer_mode $rnammer_opt -xml \\Q$rnammerfn\\E \\Q$outdir/$prefix.fna\\E\"\n",
    "\n",
    "rnammer_command_py = \"rnammer %(rnammer_options)s %(rnammer_output)s\" % tools_settings[\"rnammer_options\"]\n",
    "print(rnammer_command_py)\n",
    "os.system(rnammer_command_py)"
   ]
  },
  {
   "cell_type": "code",
   "execution_count": null,
   "metadata": {},
   "outputs": [],
   "source": []
  }
 ],
 "metadata": {
  "kernelspec": {
   "display_name": "Python 3",
   "language": "python",
   "name": "python3"
  },
  "language_info": {
   "codemirror_mode": {
    "name": "ipython",
    "version": 3
   },
   "file_extension": ".py",
   "mimetype": "text/x-python",
   "name": "python",
   "nbconvert_exporter": "python",
   "pygments_lexer": "ipython3",
   "version": "3.7.6"
  }
 },
 "nbformat": 4,
 "nbformat_minor": 4
}
