{
 "cells": [
  {
   "cell_type": "code",
   "execution_count": 1,
   "metadata": {},
   "outputs": [],
   "source": [
    "import os\n",
    "import os.path"
   ]
  },
  {
   "cell_type": "code",
   "execution_count": 2,
   "metadata": {},
   "outputs": [],
   "source": [
    "settings = {\n",
    "    \"threads\": 32,\n",
    "    \"input_file\": os.path.abspath(\"../test_data/NC_000913.fna\"),\n",
    "    \"binary_folder\": os.path.abspath(\"./prokka/binaries/linux/\"),\n",
    "    \"binary_folder_common\": os.path.abspath(\"./prokka/binaries/common/\"),\n",
    "    \"work_folder\": os.path.abspath(\"../\"),\n",
    "    \"output_folder\": os.path.abspath(\"../result\"),\n",
    "    \"genetic_code\": \"11\",\n",
    "}\n",
    "\n",
    "tools_settings = {\n",
    "    \"prodigal_options\": {\n",
    "        \"prodigal_binary\": os.path.join(settings[\"binary_folder\"], \"prodigal\"),\n",
    "        \"prodigal_input\": settings[\"input_file\"],\n",
    "        \"prodigal_output\": os.path.join(settings[\"output_folder\"], \"prodigal.out\"),\n",
    "        \"prodigal_options\": \"-c -m -g 11 -p single -f sco -q\" % settings,\n",
    "    }\n",
    "}"
   ]
  },
  {
   "cell_type": "code",
   "execution_count": 3,
   "metadata": {},
   "outputs": [
    {
     "name": "stdout",
     "output_type": "stream",
     "text": [
      "/Users/miracle/super-duper-annotator/Scripts/prokka/binaries/linux/prodigal -i /Users/miracle/super-duper-annotator/result/prodigal.out -c -m -g 11 -p single -f sco -q\n"
     ]
    },
    {
     "data": {
      "text/plain": [
       "32512"
      ]
     },
     "execution_count": 3,
     "metadata": {},
     "output_type": "execute_result"
    }
   ],
   "source": [
    "# PRODIGAL\n",
    "\n",
    "prodigal_command_pl = \"prodigal -i \\Q$outdir/$prefix.fna\\E -c -m -g $gcode -p $prodigal_mode -f sco -q\"\n",
    "\n",
    "prodigal_mode_pl = \"$prodigal_mode = ($totalbp >= 100000 && !$metagenome) ? 'single' : 'meta'\" \n",
    "\n",
    "prodigal_command_py = \"%(prodigal_binary)s -i %(prodigal_output)s %(prodigal_options)s\" % tools_settings[\"prodigal_options\"]\n",
    "print(prodigal_command_py)\n",
    "os.system(prodigal_command_py)"
   ]
  },
  {
   "cell_type": "code",
   "execution_count": null,
   "metadata": {},
   "outputs": [],
   "source": []
  }
 ],
 "metadata": {
  "kernelspec": {
   "display_name": "Python 3",
   "language": "python",
   "name": "python3"
  },
  "language_info": {
   "codemirror_mode": {
    "name": "ipython",
    "version": 3
   },
   "file_extension": ".py",
   "mimetype": "text/x-python",
   "name": "python",
   "nbconvert_exporter": "python",
   "pygments_lexer": "ipython3",
   "version": "3.7.6"
  }
 },
 "nbformat": 4,
 "nbformat_minor": 4
}
