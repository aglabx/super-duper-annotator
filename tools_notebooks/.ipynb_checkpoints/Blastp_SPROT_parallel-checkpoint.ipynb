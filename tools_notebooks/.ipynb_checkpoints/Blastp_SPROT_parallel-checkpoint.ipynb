{
 "cells": [
  {
   "cell_type": "code",
   "execution_count": null,
   "id": "063b846d",
   "metadata": {},
   "outputs": [],
   "source": [
    "import os\n",
    "import os.path"
   ]
  },
  {
   "cell_type": "code",
   "execution_count": null,
   "id": "4df351c4",
   "metadata": {},
   "outputs": [],
   "source": [
    "settings = {\n",
    "    \"threads\": 32,\n",
    "    \"input_file\": os.path.abspath(\"./test_data/NC_000913.fna\"),\n",
    "    \"binary_folder\": os.path.abspath(\"./prokka/binaries/linux/\"),\n",
    "    \"work_folder\": os.path.abspath(\"./\"),\n",
    "    \"output_folder\": os.path.abspath(\"./result\"),\n",
    "    \"aragorn_genetic_code\": \"11\",\n",
    "    \"barrnap_kingdom\": \"bac\",\n",
    "    \"blastp_sprot\" : os.path.abspath(\"./prokka/db/kingdom/Bacteria/sprot\")\n",
    "}\n",
    "\n",
    "tools_settings = {\n",
    "    \"parallel_options\": {\n",
    "        \"parallel_binary\": \"parallel\",\n",
    "        \"parallel_input\": settings[\"input_file\"],\n",
    "        \"parallel_options\": \"--gnu --plain -j %(threads)s --block 22707 --recstart '>' --pipe\" % settings,\n",
    "    },\n",
    "    \"prodigal_options\": {\n",
    "        \"prodigal_binary\": os.path.join(settings[\"binary_folder\"], \"prodigal\"),\n",
    "        \"prodigal_input\": settings[\"input_file\"],\n",
    "        \"prodigal_output\": os.path.join(settings[\"output_folder\"], \"prodigal_out.faa\"),\n",
    "        \"prodigal_options\": \"-c -m -g 11 -p single -f sco -q -a\" % settings,\n",
    "    },\n",
    "    \"blastp_options\": {\n",
    "        \"blastp_binary\": os.path.join(settings[\"binary_folder\"], \"blastp\"),\n",
    "        \"blastp_sprot_input\": settings[\"input_file\"],\n",
    "        \"blastp_sprot_output\": os.path.join(settings[\"output_folder\"], \"sprot.blastp\"),\n",
    "        \"blastp_sprot_options\": \"-query - -db %(blastp_sprot)s -evalue 1e-09 -qcov_hsp_perc 80 \\\n",
    "        -num_threads 1 -num_descriptions 1 -num_alignments 1 -seg no\" % settings,\n",
    "    },\n",
    "    \"makeblastdb_options\": {\n",
    "        \"makeblastdb_binary\": os.path.join(settings[\"binary_folder\"], \"makeblastdb\"),\n",
    "        \"makeblastdb_sprot_input\": settings[\"blastp_sprot\"],\n",
    "        \"makeblastdb_options\": \"-hash_index -dbtype prot -in\",    \n",
    "    }\n",
    "}"
   ]
  },
  {
   "cell_type": "code",
   "execution_count": 1,
   "id": "fcc088b0",
   "metadata": {},
   "outputs": [
    {
     "ename": "NameError",
     "evalue": "name 'tools_settings' is not defined",
     "output_type": "error",
     "traceback": [
      "\u001b[0;31m---------------------------------------------------------------------------\u001b[0m",
      "\u001b[0;31mNameError\u001b[0m                                 Traceback (most recent call last)",
      "\u001b[0;32m<ipython-input-1-d218a37efa46>\u001b[0m in \u001b[0;36m<module>\u001b[0;34m\u001b[0m\n\u001b[0;32m----> 1\u001b[0;31m \u001b[0mmakeblastdb_sprot_command\u001b[0m \u001b[0;34m=\u001b[0m \u001b[0;34m\"%(makeblastdb_binary)s %(makeblastdb_options)s %(makeblastdb_sprot_input)s\"\u001b[0m \u001b[0;34m%\u001b[0m \u001b[0mtools_settings\u001b[0m\u001b[0;34m[\u001b[0m\u001b[0;34m\"makeblastdb_options\"\u001b[0m\u001b[0;34m]\u001b[0m\u001b[0;34m\u001b[0m\u001b[0;34m\u001b[0m\u001b[0m\n\u001b[0m\u001b[1;32m      2\u001b[0m \u001b[0mparallel_command\u001b[0m \u001b[0;34m=\u001b[0m \u001b[0;34m\"%(parallel_binary)s %(parallel_options)s\"\u001b[0m \u001b[0;34m%\u001b[0m \u001b[0mtools_settings\u001b[0m\u001b[0;34m[\u001b[0m\u001b[0;34m\"parallel_options\"\u001b[0m\u001b[0;34m]\u001b[0m\u001b[0;34m\u001b[0m\u001b[0;34m\u001b[0m\u001b[0m\n\u001b[1;32m      3\u001b[0m \u001b[0mblastp_amr_command\u001b[0m \u001b[0;34m=\u001b[0m \u001b[0;34m\"%(blastp_binary)s %(blastp_options)s > %(blastp_sprot_output)s\"\u001b[0m \u001b[0;34m%\u001b[0m \u001b[0mtools_settings\u001b[0m\u001b[0;34m[\u001b[0m\u001b[0;34m\"blastp_options\"\u001b[0m\u001b[0;34m]\u001b[0m\u001b[0;34m\u001b[0m\u001b[0;34m\u001b[0m\u001b[0m\n\u001b[1;32m      4\u001b[0m \u001b[0mfaa_input\u001b[0m \u001b[0;34m=\u001b[0m \u001b[0mtools_settings\u001b[0m\u001b[0;34m[\u001b[0m\u001b[0;34m\"prodigal_options\"\u001b[0m\u001b[0;34m]\u001b[0m\u001b[0;34m[\u001b[0m\u001b[0;34m\"prodigal_output\"\u001b[0m\u001b[0;34m]\u001b[0m\u001b[0;34m\u001b[0m\u001b[0;34m\u001b[0m\u001b[0m\n\u001b[1;32m      5\u001b[0m \u001b[0mparallel_blastp_sprot_command\u001b[0m \u001b[0;34m=\u001b[0m \u001b[0;34mf\"cat {faa_input} | {parallel_command} {blastp_sprot_command}\"\u001b[0m\u001b[0;34m\u001b[0m\u001b[0;34m\u001b[0m\u001b[0m\n",
      "\u001b[0;31mNameError\u001b[0m: name 'tools_settings' is not defined"
     ]
    }
   ],
   "source": [
    "makeblastdb_sprot_command = \"%(makeblastdb_binary)s %(makeblastdb_options)s %(makeblastdb_sprot_input)s\" % tools_settings[\"makeblastdb_options\"]\n",
    "parallel_command = \"%(parallel_binary)s %(parallel_options)s\" % tools_settings[\"parallel_options\"]\n",
    "blastp_amr_command = \"%(blastp_binary)s %(blastp_options)s > %(blastp_sprot_output)s\" % tools_settings[\"blastp_options\"]\n",
    "faa_input = tools_settings[\"prodigal_options\"][\"prodigal_output\"]\n",
    "parallel_blastp_sprot_command = f\"cat {faa_input} | {parallel_command} {blastp_sprot_command}\"\n",
    "print(blastp_sprot_command)\n",
    "print(parallel_command)\n",
    "print(parallel_blastp_sprot_command)\n",
    "print(makeblastdb_sprot_command)"
   ]
  },
  {
   "cell_type": "code",
   "execution_count": 2,
   "id": "ecb7ae90",
   "metadata": {},
   "outputs": [
    {
     "ename": "NameError",
     "evalue": "name 'blastp_sprot_command' is not defined",
     "output_type": "error",
     "traceback": [
      "\u001b[0;31m---------------------------------------------------------------------------\u001b[0m",
      "\u001b[0;31mNameError\u001b[0m                                 Traceback (most recent call last)",
      "\u001b[0;32m<ipython-input-2-1cdc0610b5bc>\u001b[0m in \u001b[0;36m<module>\u001b[0;34m\u001b[0m\n\u001b[0;32m----> 1\u001b[0;31m \u001b[0;34mf\"{blastp_sprot_command}\"\u001b[0m\u001b[0;34m\u001b[0m\u001b[0;34m\u001b[0m\u001b[0m\n\u001b[0m",
      "\u001b[0;31mNameError\u001b[0m: name 'blastp_sprot_command' is not defined"
     ]
    }
   ],
   "source": [
    "f\"{blastp_sprot_command}\""
   ]
  }
 ],
 "metadata": {
  "kernelspec": {
   "display_name": "Python 3",
   "language": "python",
   "name": "python3"
  },
  "language_info": {
   "codemirror_mode": {
    "name": "ipython",
    "version": 3
   },
   "file_extension": ".py",
   "mimetype": "text/x-python",
   "name": "python",
   "nbconvert_exporter": "python",
   "pygments_lexer": "ipython3",
   "version": "3.8.5"
  }
 },
 "nbformat": 4,
 "nbformat_minor": 5
}
