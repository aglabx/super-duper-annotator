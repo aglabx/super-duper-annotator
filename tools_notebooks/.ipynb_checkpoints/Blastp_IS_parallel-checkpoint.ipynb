{
 "cells": [
  {
   "cell_type": "code",
   "execution_count": null,
   "id": "a7f45113",
   "metadata": {},
   "outputs": [],
   "source": [
    "import os\n",
    "import os.path"
   ]
  },
  {
   "cell_type": "code",
   "execution_count": null,
   "id": "ba5d57f9",
   "metadata": {},
   "outputs": [],
   "source": [
    "settings = {\n",
    "    \"threads\": 32,\n",
    "    \"input_file\": os.path.abspath(\"./test_data/NC_000913.fna\"),\n",
    "    \"binary_folder\": os.path.abspath(\"./prokka/binaries/linux/\"),\n",
    "    \"work_folder\": os.path.abspath(\"./\"),\n",
    "    \"output_folder\": os.path.abspath(\"./result\"),\n",
    "    \"aragorn_genetic_code\": \"11\",\n",
    "    \"barrnap_kingdom\": \"bac\",\n",
    "    \"blastp_is\" : os.path.abspath(\"./prokka/db/kingdom/Bacteria/IS\")\n",
    "}\n",
    "tools_settings = {\n",
    "    \"parallel_options\": {\n",
    "        \"parallel_binary\": \"parallel\",\n",
    "        \"parallel_input\": settings[\"input_file\"],\n",
    "        \"parallel_options\": \"--gnu --plain -j %(threads)s --block 22707 --recstart '>' --pipe\" % settings,\n",
    "    },\n",
    "    \"prodigal_options\": {\n",
    "        \"prodigal_binary\": os.path.join(settings[\"binary_folder\"], \"prodigal\"),\n",
    "        \"prodigal_input\": settings[\"input_file\"],\n",
    "        \"prodigal_output\": os.path.join(settings[\"output_folder\"], \"prodigal_out.faa\"),\n",
    "        \"prodigal_options\": \"-c -m -g 11 -p single -f sco -q -a\" % settings,\n",
    "    },\n",
    " \"blastp_options\": {\n",
    "        \"blastp_binary\": os.path.join(settings[\"binary_folder\"], \"blastp\"),\n",
    "        \"blastp_is_input\": settings[\"input_file\"],\n",
    "        \"blastp_is_output\": os.path.join(settings[\"output_folder\"], \"is.blastp\"),\n",
    "        \"blastp_is_options\": \"-query - -db %(blastp_is)s -evalue 1e-30 -qcov_hsp_perc 90 \\\n",
    "        -num_threads 1 -num_descriptions 1 -num_alignments 1 -seg no\" % settings,\n",
    "    },\n",
    "    \"makeblastdb_options\": {\n",
    "        \"makeblastdb_binary\": os.path.join(settings[\"binary_folder\"], \"makeblastdb\"),\n",
    "        \"makeblastdb_is_input\": settings[\"blastp_is\"],\n",
    "        \"makeblastdb_options\": \"-hash_index -dbtype prot -in\",    \n",
    "    }\n",
    "}"
   ]
  },
  {
   "cell_type": "code",
   "execution_count": null,
   "id": "fd9b379b",
   "metadata": {},
   "outputs": [],
   "source": [
    "makeblastdb_is_command = \"%(makeblastdb_binary)s %(makeblastdb_options)s %(makeblastdb_is_input)s\" % tools_settings[\"makeblastdb_options\"]\n",
    "parallel_command = \"%(parallel_binary)s %(parallel_options)s\" % tools_settings[\"parallel_options\"]\n",
    "blastp_is_command = \"%(blastp_binary)s %(blastp_options)s > %(blastp_is_output)s\" % tools_settings[\"blastp_options\"]\n",
    "faa_input = tools_settings[\"prodigal_options\"][\"prodigal_output\"]\n",
    "parallel_blastp_is_command = f\"cat {faa_input} | {parallel_command} {blastp_is_command}\"\n",
    "print(blastp_is_command)\n",
    "print(parallel_command)\n",
    "print(parallel_blastp_is_command)\n",
    "print(makeblastdb_is_command)"
   ]
  },
  {
   "cell_type": "code",
   "execution_count": null,
   "id": "aa50c31c",
   "metadata": {},
   "outputs": [],
   "source": [
    "f\"{blastp_is_command}\""
   ]
  }
 ],
 "metadata": {
  "kernelspec": {
   "display_name": "Python 3",
   "language": "python",
   "name": "python3"
  },
  "language_info": {
   "codemirror_mode": {
    "name": "ipython",
    "version": 3
   },
   "file_extension": ".py",
   "mimetype": "text/x-python",
   "name": "python",
   "nbconvert_exporter": "python",
   "pygments_lexer": "ipython3",
   "version": "3.8.5"
  }
 },
 "nbformat": 4,
 "nbformat_minor": 5
}
