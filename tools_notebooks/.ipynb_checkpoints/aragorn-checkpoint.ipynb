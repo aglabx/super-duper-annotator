{
 "cells": [
  {
   "cell_type": "code",
   "execution_count": 1,
   "id": "tender-collaboration",
   "metadata": {},
   "outputs": [],
   "source": [
    "import os\n",
    "import os.path"
   ]
  },
  {
   "cell_type": "code",
   "execution_count": 2,
   "id": "personal-necklace",
   "metadata": {},
   "outputs": [],
   "source": [
    "settings = {\n",
    "    \"threads\": 32,\n",
    "    \"input_file\": os.path.abspath(\"./test_data/NC_000913.fna\"),\n",
    "    \"binary_folder\": os.path.abspath(\"./prokka/binaries/linux/\"),\n",
    "    \"work_folder\": os.path.abspath(\"./\"),\n",
    "    \"output_folder\": os.path.abspath(\"./result\"),\n",
    "    \"aragorn_genetic_code\": \"11\",\n",
    "    \"barrnap_kingdom\": \"bac\"\n",
    "}\n",
    "\n",
    "tools_settings = {\n",
    "    \"aragorn_options\": {\n",
    "        \"aragorn_binary\": os.path.join(settings[\"binary_folder\"], \"aragorn\"),\n",
    "        \"aragorn_input\": settings[\"input_file\"],\n",
    "        \"aragorn_output\": os.path.join(settings[\"output_folder\"], \"aragorn.out\"),\n",
    "        \"aragorn_options\": \"-l -gc%(aragorn_genetic_code)s -w\" % settings,\n",
    "    },\n",
    "}"
   ]
  },
  {
   "cell_type": "code",
   "execution_count": 3,
   "id": "latest-anniversary",
   "metadata": {},
   "outputs": [
    {
     "name": "stdout",
     "output_type": "stream",
     "text": [
      "/media/eternus1/projects/zilov/soft/aglab_repo_conda/super-duper-annotator/tools_notebooks/prokka/binaries/linux/aragorn -l -gc11 -w -o /media/eternus1/projects/zilov/soft/aglab_repo_conda/super-duper-annotator/tools_notebooks/result/aragorn.out /media/eternus1/projects/zilov/soft/aglab_repo_conda/super-duper-annotator/tools_notebooks/test_data/NC_000913.fna\n"
     ]
    }
   ],
   "source": [
    "# ARAGORN\n",
    "\n",
    "aragorn_command_pl = \"aragorn -l -gc$gcode $aragorn_opt -w \\Q$outdir/$prefix.fna\\E\"\n",
    "\n",
    "aragorn_command_py = \"%(aragorn_binary)s %(aragorn_options)s -o %(aragorn_output)s %(aragorn_input)s\" % tools_settings[\"aragorn_options\"]\n",
    "print(aragorn_command_py)"
   ]
  },
  {
   "cell_type": "code",
   "execution_count": null,
   "id": "violent-marker",
   "metadata": {},
   "outputs": [],
   "source": [
    "os.system(aragorn_command_py)"
   ]
  }
 ],
 "metadata": {
  "kernelspec": {
   "display_name": "Python 3",
   "language": "python",
   "name": "python3"
  },
  "language_info": {
   "codemirror_mode": {
    "name": "ipython",
    "version": 3
   },
   "file_extension": ".py",
   "mimetype": "text/x-python",
   "name": "python",
   "nbconvert_exporter": "python",
   "pygments_lexer": "ipython3",
   "version": "3.7.9"
  }
 },
 "nbformat": 4,
 "nbformat_minor": 5
}
