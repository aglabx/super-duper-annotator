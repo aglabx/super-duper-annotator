{
 "cells": [
  {
   "cell_type": "code",
   "execution_count": 2,
   "metadata": {},
   "outputs": [],
   "source": [
    "import os\n",
    "import os.path"
   ]
  },
  {
   "cell_type": "code",
   "execution_count": 3,
   "metadata": {},
   "outputs": [],
   "source": [
    "settings = {\n",
    "    \"threads\": 32,\n",
    "    \"input_file\": os.path.abspath(\"./test_data/NC_000913.fna\"),\n",
    "    \"binary_folder\": os.path.abspath(\"./prokka/binaries/linux/\"),\n",
    "    \"work_folder\": os.path.abspath(\"./\"),\n",
    "    \"output_folder\": os.path.abspath(\"./result\"),\n",
    "    \"aragorn_genetic_code\": \"11\",\n",
    "    \"barrnap_kingdom\": \"bac\",\n",
    "    \"blastp_is\" : os.path.abspath(\"./prokka/db/kingdom/Bacteria/IS\")\n",
    "    \"blastp_amr\" : os.path.abspath(\"./prokka/db/kingdom/Bacteria/AMR\")\n",
    "    \"blastp_sprot\" : os.path.abspath(\"./prokka/db/kingdom/Bacteria/sprot\")\n",
    "}\n",
    "\n",
    "tools_settings = {\n",
    "    \"aragorn_options\": {\n",
    "        \"aragorn_binary\": os.path.join(settings[\"binary_folder\"], \"aragorn\"),\n",
    "        \"aragorn_input\": settings[\"input_file\"],\n",
    "        \"aragorn_output\": os.path.join(settings[\"output_folder\"], \"aragorn.out\"),\n",
    "        \"aragorn_options\": \"-l -gc%(aragorn_genetic_code)s -w\" % settings,\n",
    "    },\n",
    "    \"barrnap_options\": {\n",
    "        \"barrnap_binary\": os.path.join(settings[\"binary_folder\"], \"barrnap\"),\n",
    "        \"barrnap_options\": \"--kingdom %(barrnap_kingdom)s --threads %(threads)s --quiet\" % settings,\n",
    "        \"barrnap_output\": os.path.join(settings[\"output_folder\"], \"barrnap.out\"),\n",
    "        \"barrnap_input\": settings[\"input_file\"],\n",
    "    },\n",
    "    \"parallel_options\": {\n",
    "        \"parallel_binary\": \"parallel\",\n",
    "        \"parallel_input\": settings[\"input_file\"],\n",
    "        \"parallel_options\": \"--gnu --plain -j %(threads)s --block 22707 --recstart '>' --pipe\" % settings,\n",
    "    },\n",
    "    \"prodigal_options\": {\n",
    "        \"prodigal_binary\": os.path.join(settings[\"binary_folder\"], \"prodigal\"),\n",
    "        \"prodigal_input\": settings[\"input_file\"],\n",
    "        \"prodigal_output\": os.path.join(settings[\"output_folder\"], \"prodigal_out.faa\"),\n",
    "        \"prodigal_options\": \"-c -m -g 11 -p single -f sco -q -a\" % settings,\n",
    "    },\n",
    "    \"blastp_options\": {\n",
    "        \"blastp_binary\": os.path.join(settings[\"binary_folder\"], \"blastp\"),\n",
    "        \"blastp_is_input\": settings[\"input_file\"],\n",
    "        \"blastp_is_output\": os.path.join(settings[\"output_folder\"], \"is.blastp\"),\n",
    "        \"blastp_amr_output\": os.path.join(settings[\"output_folder\"], \"amr.blastp\"),\n",
    "        \"blastp_sprot_output\": os.path.join(settings[\"output_folder\"], \"sprot.blastp\"),\n",
    "        \"blastp_is_options\": \"-query - -db %(blastp_is)s -evalue 1e-30 -qcov_hsp_perc 90 \\\n",
    "        -num_threads 1 -num_descriptions 1 -num_alignments 1 -seg no\" % settings,\n",
    "        \"blastp_amr_options\": \"-query - -db %(blastp_amr)s -evalue 9.99999999999999e-301 -qcov_hsp_perc 90 \\\n",
    "        -num_threads 1 -num_descriptions 1 -num_alignments 1 -seg no\" % settings,\n",
    "        \"blastp_sprot_options\": \"-query - -db %(blastp_sprot)s -evalue 1e-09 -qcov_hsp_perc 80 \\\n",
    "        -num_threads 1 -num_descriptions 1 -num_alignments 1 -seg no\" % settings,\n",
    "    },\n",
    "    \"makeblastdb_options\": {\n",
    "        \"makeblastdb_binary\": os.path.join(settings[\"binary_folder\"], \"makeblastdb\"),\n",
    "        \"makeblastdb_is_input\": settings[\"blastp_is\"],\n",
    "        \"makeblastdb_amr_input\": settings[\"blastp_amr\"],\n",
    "        \"makeblastdb_sprot_input\": settings[\"blastp_sprot\"],\n",
    "        \"makeblastdb_options\": \"-hash_index -dbtype prot -in\",    \n",
    "    }\n",
    "}"
   ]
  },
  {
   "cell_type": "code",
   "execution_count": 7,
   "metadata": {},
   "outputs": [
    {
     "ename": "NameError",
     "evalue": "name 'tools_settings' is not defined",
     "output_type": "error",
     "traceback": [
      "\u001b[0;31m---------------------------------------------------------------------------\u001b[0m",
      "\u001b[0;31mNameError\u001b[0m                                 Traceback (most recent call last)",
      "\u001b[0;32m<ipython-input-7-d2e06dc86414>\u001b[0m in \u001b[0;36m<module>\u001b[0;34m\u001b[0m\n\u001b[0;32m----> 1\u001b[0;31m \u001b[0mmakeblastdb_is_command\u001b[0m \u001b[0;34m=\u001b[0m \u001b[0;34m\"%(makeblastdb_binary)s %(makeblastdb_options)s %(makeblastdb_is_input)s\"\u001b[0m \u001b[0;34m%\u001b[0m \u001b[0mtools_settings\u001b[0m\u001b[0;34m[\u001b[0m\u001b[0;34m\"makeblastdb_options\"\u001b[0m\u001b[0;34m]\u001b[0m\u001b[0;34m\u001b[0m\u001b[0;34m\u001b[0m\u001b[0m\n\u001b[0m\u001b[1;32m      2\u001b[0m \u001b[0mparallel_command\u001b[0m \u001b[0;34m=\u001b[0m \u001b[0;34m\"%(parallel_binary)s %(parallel_options)s\"\u001b[0m \u001b[0;34m%\u001b[0m \u001b[0mtools_settings\u001b[0m\u001b[0;34m[\u001b[0m\u001b[0;34m\"parallel_options\"\u001b[0m\u001b[0;34m]\u001b[0m\u001b[0;34m\u001b[0m\u001b[0;34m\u001b[0m\u001b[0m\n\u001b[1;32m      3\u001b[0m \u001b[0mblastp_is_command\u001b[0m \u001b[0;34m=\u001b[0m \u001b[0;34m\"%(blastp_binary)s %(blastp_options)s > %(blastp_is_output)s\"\u001b[0m \u001b[0;34m%\u001b[0m \u001b[0mtools_settings\u001b[0m\u001b[0;34m[\u001b[0m\u001b[0;34m\"blastp_options\"\u001b[0m\u001b[0;34m]\u001b[0m\u001b[0;34m\u001b[0m\u001b[0;34m\u001b[0m\u001b[0m\n\u001b[1;32m      4\u001b[0m \u001b[0mfaa_input\u001b[0m \u001b[0;34m=\u001b[0m \u001b[0mtools_settings\u001b[0m\u001b[0;34m[\u001b[0m\u001b[0;34m\"prodigal_options\"\u001b[0m\u001b[0;34m]\u001b[0m\u001b[0;34m[\u001b[0m\u001b[0;34m\"prodigal_output\"\u001b[0m\u001b[0;34m]\u001b[0m\u001b[0;34m\u001b[0m\u001b[0;34m\u001b[0m\u001b[0m\n\u001b[1;32m      5\u001b[0m \u001b[0mparallel_blastp_is_command\u001b[0m \u001b[0;34m=\u001b[0m \u001b[0;34mf\"cat {faa_input} | {parallel_command} {blastp_is_command}\"\u001b[0m\u001b[0;34m\u001b[0m\u001b[0;34m\u001b[0m\u001b[0m\n",
      "\u001b[0;31mNameError\u001b[0m: name 'tools_settings' is not defined"
     ]
    }
   ],
   "source": [
    "makeblastdb_is_command = \"%(makeblastdb_binary)s %(makeblastdb_options)s %(makeblastdb_is_input)s\" % tools_settings[\"makeblastdb_options\"]\n",
    "parallel_command = \"%(parallel_binary)s %(parallel_options)s\" % tools_settings[\"parallel_options\"]\n",
    "blastp_is_command = \"%(blastp_binary)s %(blastp_options)s > %(blastp_is_output)s\" % tools_settings[\"blastp_options\"]\n",
    "faa_input = tools_settings[\"prodigal_options\"][\"prodigal_output\"]\n",
    "parallel_blastp_is_command = f\"cat {faa_input} | {parallel_command} {blastp_is_command}\"\n",
    "print(blastp_is_command)\n",
    "print(parallel_command)\n",
    "print(parallel_blastp_is_command)\n",
    "print(makeblastdb_is_command)"
   ]
  },
  {
   "cell_type": "code",
   "execution_count": 4,
   "metadata": {},
   "outputs": [
    {
     "ename": "NameError",
     "evalue": "name 'blastp_is_command' is not defined",
     "output_type": "error",
     "traceback": [
      "\u001b[0;31m---------------------------------------------------------------------------\u001b[0m",
      "\u001b[0;31mNameError\u001b[0m                                 Traceback (most recent call last)",
      "\u001b[0;32m<ipython-input-4-f223994f4f0f>\u001b[0m in \u001b[0;36m<module>\u001b[0;34m\u001b[0m\n\u001b[0;32m----> 1\u001b[0;31m \u001b[0;34mf\"{blastp_is_command}\"\u001b[0m\u001b[0;34m\u001b[0m\u001b[0;34m\u001b[0m\u001b[0m\n\u001b[0m",
      "\u001b[0;31mNameError\u001b[0m: name 'blastp_is_command' is not defined"
     ]
    }
   ],
   "source": [
    "f\"{blastp_is_command}\""
   ]
  },
  {
   "cell_type": "code",
   "execution_count": 1,
   "metadata": {},
   "outputs": [
    {
     "ename": "NameError",
     "evalue": "name 'tools_settings' is not defined",
     "output_type": "error",
     "traceback": [
      "\u001b[0;31m---------------------------------------------------------------------------\u001b[0m",
      "\u001b[0;31mNameError\u001b[0m                                 Traceback (most recent call last)",
      "\u001b[0;32m<ipython-input-1-0495dfefb2ce>\u001b[0m in \u001b[0;36m<module>\u001b[0;34m\u001b[0m\n\u001b[0;32m----> 1\u001b[0;31m \u001b[0mmakeblastdb_amr_command\u001b[0m \u001b[0;34m=\u001b[0m \u001b[0;34m\"%(makeblastdb_binary)s %(makeblastdb_options)s %(makeblastdb_amr_input)s\"\u001b[0m \u001b[0;34m%\u001b[0m \u001b[0mtools_settings\u001b[0m\u001b[0;34m[\u001b[0m\u001b[0;34m\"makeblastdb_options\"\u001b[0m\u001b[0;34m]\u001b[0m\u001b[0;34m\u001b[0m\u001b[0;34m\u001b[0m\u001b[0m\n\u001b[0m\u001b[1;32m      2\u001b[0m \u001b[0mparallel_command\u001b[0m \u001b[0;34m=\u001b[0m \u001b[0;34m\"%(parallel_binary)s %(parallel_options)s\"\u001b[0m \u001b[0;34m%\u001b[0m \u001b[0mtools_settings\u001b[0m\u001b[0;34m[\u001b[0m\u001b[0;34m\"parallel_options\"\u001b[0m\u001b[0;34m]\u001b[0m\u001b[0;34m\u001b[0m\u001b[0;34m\u001b[0m\u001b[0m\n\u001b[1;32m      3\u001b[0m \u001b[0mblastp_amr_command\u001b[0m \u001b[0;34m=\u001b[0m \u001b[0;34m\"%(blastp_binary)s %(blastp_options)s > %(blastp_amr_output)s\"\u001b[0m \u001b[0;34m%\u001b[0m \u001b[0mtools_settings\u001b[0m\u001b[0;34m[\u001b[0m\u001b[0;34m\"blastp_options\"\u001b[0m\u001b[0;34m]\u001b[0m\u001b[0;34m\u001b[0m\u001b[0;34m\u001b[0m\u001b[0m\n\u001b[1;32m      4\u001b[0m \u001b[0mfaa_input\u001b[0m \u001b[0;34m=\u001b[0m \u001b[0mtools_settings\u001b[0m\u001b[0;34m[\u001b[0m\u001b[0;34m\"prodigal_options\"\u001b[0m\u001b[0;34m]\u001b[0m\u001b[0;34m[\u001b[0m\u001b[0;34m\"prodigal_output\"\u001b[0m\u001b[0;34m]\u001b[0m\u001b[0;34m\u001b[0m\u001b[0;34m\u001b[0m\u001b[0m\n\u001b[1;32m      5\u001b[0m \u001b[0mparallel_blastp_amr_command\u001b[0m \u001b[0;34m=\u001b[0m \u001b[0;34mf\"cat {faa_input} | {parallel_command} {blastp_amr_command}\"\u001b[0m\u001b[0;34m\u001b[0m\u001b[0;34m\u001b[0m\u001b[0m\n",
      "\u001b[0;31mNameError\u001b[0m: name 'tools_settings' is not defined"
     ]
    }
   ],
   "source": [
    "makeblastdb_amr_command = \"%(makeblastdb_binary)s %(makeblastdb_options)s %(makeblastdb_amr_input)s\" % tools_settings[\"makeblastdb_options\"]\n",
    "parallel_command = \"%(parallel_binary)s %(parallel_options)s\" % tools_settings[\"parallel_options\"]\n",
    "blastp_amr_command = \"%(blastp_binary)s %(blastp_options)s > %(blastp_amr_output)s\" % tools_settings[\"blastp_options\"]\n",
    "faa_input = tools_settings[\"prodigal_options\"][\"prodigal_output\"]\n",
    "parallel_blastp_amr_command = f\"cat {faa_input} | {parallel_command} {blastp_amr_command}\"\n",
    "print(blastp_amr_command)\n",
    "print(parallel_command)\n",
    "print(parallel_blastp_amr_command)\n",
    "print(makeblastdb_amr_command)"
   ]
  },
  {
   "cell_type": "code",
   "execution_count": 2,
   "metadata": {},
   "outputs": [
    {
     "ename": "NameError",
     "evalue": "name 'blastp_amr_command' is not defined",
     "output_type": "error",
     "traceback": [
      "\u001b[0;31m---------------------------------------------------------------------------\u001b[0m",
      "\u001b[0;31mNameError\u001b[0m                                 Traceback (most recent call last)",
      "\u001b[0;32m<ipython-input-2-6991bfae21b4>\u001b[0m in \u001b[0;36m<module>\u001b[0;34m\u001b[0m\n\u001b[0;32m----> 1\u001b[0;31m \u001b[0;34mf\"{blastp_amr_command}\"\u001b[0m\u001b[0;34m\u001b[0m\u001b[0;34m\u001b[0m\u001b[0m\n\u001b[0m",
      "\u001b[0;31mNameError\u001b[0m: name 'blastp_amr_command' is not defined"
     ]
    }
   ],
   "source": [
    "f\"{blastp_amr_command}\""
   ]
  },
  {
   "cell_type": "code",
   "execution_count": 8,
   "metadata": {},
   "outputs": [
    {
     "ename": "NameError",
     "evalue": "name 'tools_settings' is not defined",
     "output_type": "error",
     "traceback": [
      "\u001b[0;31m---------------------------------------------------------------------------\u001b[0m",
      "\u001b[0;31mNameError\u001b[0m                                 Traceback (most recent call last)",
      "\u001b[0;32m<ipython-input-8-d218a37efa46>\u001b[0m in \u001b[0;36m<module>\u001b[0;34m\u001b[0m\n\u001b[0;32m----> 1\u001b[0;31m \u001b[0mmakeblastdb_sprot_command\u001b[0m \u001b[0;34m=\u001b[0m \u001b[0;34m\"%(makeblastdb_binary)s %(makeblastdb_options)s %(makeblastdb_sprot_input)s\"\u001b[0m \u001b[0;34m%\u001b[0m \u001b[0mtools_settings\u001b[0m\u001b[0;34m[\u001b[0m\u001b[0;34m\"makeblastdb_options\"\u001b[0m\u001b[0;34m]\u001b[0m\u001b[0;34m\u001b[0m\u001b[0;34m\u001b[0m\u001b[0m\n\u001b[0m\u001b[1;32m      2\u001b[0m \u001b[0mparallel_command\u001b[0m \u001b[0;34m=\u001b[0m \u001b[0;34m\"%(parallel_binary)s %(parallel_options)s\"\u001b[0m \u001b[0;34m%\u001b[0m \u001b[0mtools_settings\u001b[0m\u001b[0;34m[\u001b[0m\u001b[0;34m\"parallel_options\"\u001b[0m\u001b[0;34m]\u001b[0m\u001b[0;34m\u001b[0m\u001b[0;34m\u001b[0m\u001b[0m\n\u001b[1;32m      3\u001b[0m \u001b[0mblastp_amr_command\u001b[0m \u001b[0;34m=\u001b[0m \u001b[0;34m\"%(blastp_binary)s %(blastp_options)s > %(blastp_sprot_output)s\"\u001b[0m \u001b[0;34m%\u001b[0m \u001b[0mtools_settings\u001b[0m\u001b[0;34m[\u001b[0m\u001b[0;34m\"blastp_options\"\u001b[0m\u001b[0;34m]\u001b[0m\u001b[0;34m\u001b[0m\u001b[0;34m\u001b[0m\u001b[0m\n\u001b[1;32m      4\u001b[0m \u001b[0mfaa_input\u001b[0m \u001b[0;34m=\u001b[0m \u001b[0mtools_settings\u001b[0m\u001b[0;34m[\u001b[0m\u001b[0;34m\"prodigal_options\"\u001b[0m\u001b[0;34m]\u001b[0m\u001b[0;34m[\u001b[0m\u001b[0;34m\"prodigal_output\"\u001b[0m\u001b[0;34m]\u001b[0m\u001b[0;34m\u001b[0m\u001b[0;34m\u001b[0m\u001b[0m\n\u001b[1;32m      5\u001b[0m \u001b[0mparallel_blastp_sprot_command\u001b[0m \u001b[0;34m=\u001b[0m \u001b[0;34mf\"cat {faa_input} | {parallel_command} {blastp_sprot_command}\"\u001b[0m\u001b[0;34m\u001b[0m\u001b[0;34m\u001b[0m\u001b[0m\n",
      "\u001b[0;31mNameError\u001b[0m: name 'tools_settings' is not defined"
     ]
    }
   ],
   "source": [
    "makeblastdb_sprot_command = \"%(makeblastdb_binary)s %(makeblastdb_options)s %(makeblastdb_sprot_input)s\" % tools_settings[\"makeblastdb_options\"]\n",
    "parallel_command = \"%(parallel_binary)s %(parallel_options)s\" % tools_settings[\"parallel_options\"]\n",
    "blastp_amr_command = \"%(blastp_binary)s %(blastp_options)s > %(blastp_sprot_output)s\" % tools_settings[\"blastp_options\"]\n",
    "faa_input = tools_settings[\"prodigal_options\"][\"prodigal_output\"]\n",
    "parallel_blastp_sprot_command = f\"cat {faa_input} | {parallel_command} {blastp_sprot_command}\"\n",
    "print(blastp_sprot_command)\n",
    "print(parallel_command)\n",
    "print(parallel_blastp_sprot_command)\n",
    "print(makeblastdb_sprot_command)"
   ]
  },
  {
   "cell_type": "code",
   "execution_count": 9,
   "metadata": {},
   "outputs": [
    {
     "ename": "NameError",
     "evalue": "name 'blastp_sprot_command' is not defined",
     "output_type": "error",
     "traceback": [
      "\u001b[0;31m---------------------------------------------------------------------------\u001b[0m",
      "\u001b[0;31mNameError\u001b[0m                                 Traceback (most recent call last)",
      "\u001b[0;32m<ipython-input-9-1cdc0610b5bc>\u001b[0m in \u001b[0;36m<module>\u001b[0;34m\u001b[0m\n\u001b[0;32m----> 1\u001b[0;31m \u001b[0;34mf\"{blastp_sprot_command}\"\u001b[0m\u001b[0;34m\u001b[0m\u001b[0;34m\u001b[0m\u001b[0m\n\u001b[0m",
      "\u001b[0;31mNameError\u001b[0m: name 'blastp_sprot_command' is not defined"
     ]
    }
   ],
   "source": [
    "f\"{blastp_sprot_command}\""
   ]
  },
  {
   "cell_type": "code",
   "execution_count": 6,
   "metadata": {},
   "outputs": [
    {
     "name": "stdout",
     "output_type": "stream",
     "text": [
      "Cat plays with Mouse, but Dog plays with Cat too\n"
     ]
    }
   ],
   "source": [
    "some_dict = {\"pet_1\": \"Mouse\", \"pet_2\": \"Cat\", \"pet_3\": \"Dog\"}\n",
    "\n",
    "message = \"%(pet_2)s plays with %(pet_1)s, but %(pet_3)s plays with %(pet_2)s too\" % some_dict\n",
    "\n",
    "print(message)"
   ]
  },
  {
   "cell_type": "code",
   "execution_count": 4,
   "metadata": {},
   "outputs": [],
   "source": [
    "# create all dirictories \n",
    "for key, value in settings.items():\n",
    "    if \"folder\" in key:\n",
    "        if not os.path.isdir(value):\n",
    "            os.makedirs(value)"
   ]
  },
  {
   "cell_type": "code",
   "execution_count": 17,
   "metadata": {},
   "outputs": [
    {
     "name": "stdout",
     "output_type": "stream",
     "text": [
      "/media/eternus1/projects/zilov/soft/aglab_repo_conda/super-duper-annotator/prokka/binaries/linux/aragorn -l -gc11 -w -o /media/eternus1/projects/zilov/soft/aglab_repo_conda/super-duper-annotator/result/aragorn.out /media/eternus1/projects/zilov/soft/aglab_repo_conda/super-duper-annotator/test_data/NC_000913.fna\n"
     ]
    }
   ],
   "source": [
    "# ARAGORN\n",
    "\n",
    "aragorn_command_pl = \"aragorn -l -gc$gcode $aragorn_opt -w \\Q$outdir/$prefix.fna\\E\"\n",
    "\n",
    "aragorn_command_py = \"%(aragorn_binary)s %(aragorn_options)s -o %(aragorn_output)s %(aragorn_input)s\" % tools_settings[\"aragorn_options\"]\n",
    "print(aragorn_command_py)"
   ]
  },
  {
   "cell_type": "code",
   "execution_count": 19,
   "metadata": {},
   "outputs": [
    {
     "data": {
      "text/plain": [
       "0"
      ]
     },
     "execution_count": 19,
     "metadata": {},
     "output_type": "execute_result"
    }
   ],
   "source": [
    "os.system(aragorn_command_py)"
   ]
  },
  {
   "cell_type": "code",
   "execution_count": 12,
   "metadata": {},
   "outputs": [
    {
     "name": "stdout",
     "output_type": "stream",
     "text": [
      ">NC_000913.3 Escherichia coli str. K-12 substr. MG1655, complete genome\n",
      "89 genes found\n",
      "1   tRNA-Ile               [225381,225457]\t35  \t(gat)\n",
      "2   tRNA-Ala               [225500,225575]\t34  \t(tgc)\n",
      "3   tRNA-Asp               [228928,229004]\t35  \t(gtc)\n",
      "4   tRNA-Asp               [236931,237007]\t35  \t(gtc)\n",
      "5   tRNA-Thr               [262871,262946]\t34  \t(cgt)\n",
      "6   tRNA-Ser               [345334,345414]\t38  \t(gga)\n",
      "7   tRNA-Arg               [564723,564799]\t35  \t(tct)\n",
      "8   tRNA-Gln              c[696430,696504]\t33  \t(ctg)\n",
      "9   tRNA-Gln              c[696542,696616]\t33  \t(ctg)\n",
      "10  tRNA-Met              c[696664,696740]\t35  \t(cat)\n",
      "11  tRNA-Gln              c[696756,696830]\t33  \t(ttg)\n",
      "12  tRNA-Gln              c[696865,696939]\t33  \t(ttg)\n",
      "13  tRNA-Leu              c[696963,697047]\t35  \t(tag)\n",
      "14  tRNA-Met              c[697057,697133]\t35  \t(cat)\n",
      "15  tRNA-Lys               [780554,780629]\t34  \t(ttt)\n",
      "16  tRNA-Val               [780765,780840]\t34  \t(tac)\n",
      "17  tRNA-Lys               [780843,780918]\t34  \t(ttt)\n",
      "18  tRNA-Val               [781068,781143]\t34  \t(tac)\n",
      "19  tRNA-Lys               [781147,781222]\t34  \t(ttt)\n",
      "20  tRNA-Lys               [781369,781444]\t34  \t(ttt)\n",
      "21  tRNA-Lys               [781577,781652]\t34  \t(ttt)\n",
      "22  tRNA-Ser              c[925884,925971]\t35  \t(gga)\n",
      "23  tRNA-Ser            c[1031625,1031712]\t35  \t(tga)\n",
      "24  tRNA-Ser            c[1097565,1097652]\t35  \t(gga)\n",
      "25  tRNA-Tyr            c[1287244,1287328]\t35  \t(gta)\n",
      "26  tRNA-Tyr            c[1287538,1287622]\t35  \t(gta)\n",
      "27  tRNA-Val             [1746435,1746511]\t35  \t(gac)\n",
      "28  tRNA-Val             [1746516,1746592]\t35  \t(gac)\n",
      "29  tRNA-Leu            c[1991815,1991901]\t35  \t(taa)\n",
      "30  tRNA-Cys            c[1991914,1991987]\t33  \t(gca)\n",
      "31  tRNA-Gly            c[1992042,1992117]\t34  \t(gcc)\n",
      "32  tRNA-Ser            c[2043468,2043557]\t35  \t(cga)\n",
      "33  tRNA-Asn             [2044549,2044624]\t34  \t(gtt)\n",
      "34  tRNA-Asn            c[2058027,2058102]\t34  \t(gtt)\n",
      "35  tRNA-Asn             [2059851,2059926]\t34  \t(gtt)\n",
      "36  tRNA-Asn             [2062260,2062335]\t34  \t(gtt)\n",
      "37  tRNA-Pro             [2286211,2286287]\t35  \t(ggg)\n",
      "38  tRNA-Arg             [2466309,2466383]\t34  \t(cct)\n",
      "39  tRNA-Ala            c[2518041,2518116]\t34  \t(ggc)\n",
      "40  tRNA-Ala            c[2518156,2518231]\t34  \t(ggc)\n",
      "41  tRNA-Val             [2520931,2521006]\t34  \t(tac)\n",
      "42  tRNA-Val             [2521051,2521126]\t34  \t(tac)\n",
      "43  tRNA-Val             [2521173,2521248]\t34  \t(tac)\n",
      "44  tRNA-Lys             [2521253,2521328]\t34  \t(ttt)\n",
      "45  tRNA-Glu            c[2729369,2729444]\t35  \t(ttc)\n",
      "46  tmRNA                [2755593,2755955]\t90,125\tANDENYALAA**\n",
      "47  tRNA-Met            c[2785762,2785837]\t34  \t(cat)\n",
      "48  tRNA-Arg            c[2817784,2817860]\t35  \t(acg)\n",
      "49  tRNA-Arg            c[2818059,2818135]\t35  \t(acg)\n",
      "50  tRNA-Arg            c[2818198,2818274]\t35  \t(acg)\n",
      "51  tRNA-Arg             [2818458,2818529]\t34  \t(tcg)\n",
      "52  tRNA-Arg            c[2818473,2818549]\t35  \t(acg)\n",
      "53  tRNA-Ser            c[2818553,2818645]\t35  \t(gct)\n",
      "54  tRNA-Met             [2947387,2947463]\t35  \t(cat)\n",
      "55  tRNA-Met             [2947497,2947573]\t35  \t(cat)\n",
      "56  tRNA-Met             [2947607,2947683]\t35  \t(cat)\n",
      "57  tRNA-Gly            c[2998984,2999057]\t33  \t(ccc)\n",
      "58  tRNA-Phe             [3110366,3110441]\t34  \t(gaa)\n",
      "59  tRNA-Met             [3215598,3215673]\t34  \t(cat)\n",
      "60  tRNA-Met            c[3318213,3318289]\t35  \t(cat)\n",
      "61  tRNA-Leu            c[3322072,3322158]\t35  \t(gag)\n",
      "62  tRNA-Thr            c[3423580,3423655]\t34  \t(ggt)\n",
      "63  tRNA-Ala            c[3426958,3427033]\t34  \t(tgc)\n",
      "64  tRNA-Ile            c[3427076,3427152]\t35  \t(gat)\n",
      "65  tRNA-Pro            c[3708616,3708692]\t35  \t(cgg)\n",
      "66  tRNA-SeC             [3836222,3836316]\t35  \t(tca)\n",
      "67  tRNA-Glu             [3943435,3943510]\t35  \t(ttc)\n",
      "68  tRNA-Asp             [3946872,3946948]\t35  \t(gtc)\n",
      "69  tRNA-Trp             [3946957,3947032]\t34  \t(cca)\n",
      "70  tRNA-Arg             [3982375,3982451]\t35  \t(ccg)\n",
      "71  tRNA-His             [3982510,3982585]\t34  \t(gtg)\n",
      "72  tRNA-Leu             [3982606,3982692]\t35  \t(cag)\n",
      "73  tRNA-Pro             [3982735,3982811]\t35  \t(tgg)\n",
      "74  tRNA-Ile             [4037141,4037217]\t35  \t(gat)\n",
      "75  tRNA-Ala             [4037260,4037335]\t34  \t(tgc)\n",
      "76  tRNA-Glu             [4168372,4168447]\t35  \t(ttc)\n",
      "77  tRNA-Thr             [4175388,4175463]\t34  \t(tgt)\n",
      "78  tRNA-Tyr             [4175472,4175556]\t35  \t(gta)\n",
      "79  tRNA-Gly             [4175673,4175747]\t34  \t(tcc)\n",
      "80  tRNA-Thr             [4175754,4175829]\t34  \t(ggt)\n",
      "81  tRNA-Glu             [4209774,4209849]\t35  \t(ttc)\n",
      "82  tRNA-Phe            c[4362551,4362626]\t34  \t(gaa)\n",
      "83  tRNA-Gly             [4392360,4392435]\t34  \t(gcc)\n",
      "84  tRNA-Gly             [4392472,4392547]\t34  \t(gcc)\n",
      "85  tRNA-Gly             [4392583,4392658]\t34  \t(gcc)\n",
      "86  tRNA-Leu             [4496405,4496489]\t35  \t(caa)\n",
      "87  tRNA-Leu            c[4606079,4606165]\t35  \t(cag)\n",
      "88  tRNA-Leu            c[4606200,4606286]\t35  \t(cag)\n",
      "89  tRNA-Leu            c[4606315,4606401]\t35  \t(cag)\n"
     ]
    }
   ],
   "source": [
    "with open(tools_settings[\"aragorn_options\"][\"aragorn_output\"]) as fh:\n",
    "    for line in fh:\n",
    "        print(line.strip())"
   ]
  },
  {
   "cell_type": "code",
   "execution_count": 14,
   "metadata": {},
   "outputs": [
    {
     "name": "stdout",
     "output_type": "stream",
     "text": [
      "barrnap --kingdom bac --threads 32 --quiet /media/eternus1/projects/zilov/soft/aglab_repo_conda/super-duper-annotator/test_data/NC_000913.fna > /media/eternus1/projects/zilov/soft/aglab_repo_conda/super-duper-annotator/result/barrnap.out\n"
     ]
    }
   ],
   "source": [
    "# BARRNAP\n",
    "\n",
    "barrnap_command_pl = \"barrnap --kingdom $barrnap_mode --threads $cpus --quiet \\Q$outdir/$prefix.fna\\E\"\n",
    "\n",
    "barrnap_command_raw_py = \"barrnap --kingdom bac -thread 10 -quiet ./results/barrnupoutput.\"\n",
    "\n",
    "barrnap_command_py = \"barrnap %(barrnap_options)s %(barrnap_input)s > %(barrnap_output)s\" % tools_settings[\"barrnap_options\"]\n",
    "print(barrnap_command_py)"
   ]
  },
  {
   "cell_type": "code",
   "execution_count": 15,
   "metadata": {},
   "outputs": [
    {
     "data": {
      "text/plain": [
       "0"
      ]
     },
     "execution_count": 15,
     "metadata": {},
     "output_type": "execute_result"
    }
   ],
   "source": [
    "os.system(barrnap_command_py)"
   ]
  },
  {
   "cell_type": "code",
   "execution_count": 9,
   "metadata": {},
   "outputs": [
    {
     "name": "stdout",
     "output_type": "stream",
     "text": [
      "##gff-version 3\n",
      "NC_000913.3\tbarrnap:0.8\trRNA\t223774\t225311\t0\t+\t.\tName=16S_rRNA;product=16S ribosomal RNA\n",
      "NC_000913.3\tbarrnap:0.8\trRNA\t228760\t228870\t1.9e-11\t+\t.\tName=5S_rRNA;product=5S ribosomal RNA\n",
      "NC_000913.3\tbarrnap:0.8\trRNA\t2726074\t2726184\t1.9e-11\t-\t.\tName=5S_rRNA;product=5S ribosomal RNA\n",
      "NC_000913.3\tbarrnap:0.8\trRNA\t2729617\t2731154\t0\t-\t.\tName=16S_rRNA;product=16S ribosomal RNA\n",
      "NC_000913.3\tbarrnap:0.8\trRNA\t3423428\t3423538\t4.4e-11\t-\t.\tName=5S_rRNA;product=5S ribosomal RNA\n",
      "NC_000913.3\tbarrnap:0.8\trRNA\t3423673\t3423783\t1.9e-11\t-\t.\tName=5S_rRNA;product=5S ribosomal RNA\n",
      "NC_000913.3\tbarrnap:0.8\trRNA\t3427222\t3428759\t0\t-\t.\tName=16S_rRNA;product=16S ribosomal RNA\n",
      "NC_000913.3\tbarrnap:0.8\trRNA\t3941811\t3943348\t0\t+\t.\tName=16S_rRNA;product=16S ribosomal RNA\n",
      "NC_000913.3\tbarrnap:0.8\trRNA\t3946704\t3946814\t1.9e-11\t+\t.\tName=5S_rRNA;product=5S ribosomal RNA\n",
      "NC_000913.3\tbarrnap:0.8\trRNA\t4035534\t4037071\t0\t+\t.\tName=16S_rRNA;product=16S ribosomal RNA\n",
      "NC_000913.3\tbarrnap:0.8\trRNA\t4040521\t4040631\t2.5e-11\t+\t.\tName=5S_rRNA;product=5S ribosomal RNA\n",
      "NC_000913.3\tbarrnap:0.8\trRNA\t4166662\t4168199\t0\t+\t.\tName=16S_rRNA;product=16S ribosomal RNA\n",
      "NC_000913.3\tbarrnap:0.8\trRNA\t4171641\t4171751\t6.5e-11\t+\t.\tName=5S_rRNA;product=5S ribosomal RNA\n",
      "NC_000913.3\tbarrnap:0.8\trRNA\t4208150\t4209687\t0\t+\t.\tName=16S_rRNA;product=16S ribosomal RNA\n",
      "NC_000913.3\tbarrnap:0.8\trRNA\t4213044\t4213154\t6.5e-11\t+\t.\tName=5S_rRNA;product=5S ribosomal RNA\n"
     ]
    }
   ],
   "source": [
    "with open(tools_settings[\"barrnap_options\"][\"barrnap_output\"]) as fh:\n",
    "    for line in fh:\n",
    "        print(line.strip())"
   ]
  },
  {
   "cell_type": "code",
   "execution_count": 48,
   "metadata": {},
   "outputs": [],
   "source": [
    "# RNAMMER\n",
    "\n",
    "rnammer_command_pl = \"rnammer -S $rnammer_mode $rnammer_opt -xml \\Q$rnammerfn\\E \\Q$outdir/$prefix.fna\\E\"\n",
    "\n",
    "rnammer_command_py = \"rnammer\""
   ]
  },
  {
   "cell_type": "code",
   "execution_count": null,
   "metadata": {},
   "outputs": [],
   "source": [
    "# BLASTP_CMD\n",
    "\n",
    "blastp_command_pl =  \"blastp -query - -db %d -evalue %e -qcov_hsp_perc %c -num_threads 1 -num_descriptions 1 -num_alignments 1 -seg no\"\n",
    "\n",
    "blastp_command_py = \"%(blastp_binary)s %(blastp_options)s -o %(blastp_output)s %(blastp_input)s\" % tools_settings[\"blastp_options\"]\n",
    "print(blastp_command_py)"
   ]
  },
  {
   "cell_type": "code",
   "execution_count": null,
   "metadata": {},
   "outputs": [],
   "source": [
    "# blastp_run\n",
    "os.system(blastp_command_py)"
   ]
  },
  {
   "cell_type": "code",
   "execution_count": null,
   "metadata": {},
   "outputs": [],
   "source": [
    "# list of databases to use, in priority order\n",
    "\n",
    "database = {\"IS, AMR, sprot\"};"
   ]
  },
  {
   "cell_type": "code",
   "execution_count": null,
   "metadata": {},
   "outputs": [],
   "source": [
    "# BLASTP_on_IS_genes_command\n",
    "\n",
    "IS_db = \"$dbdir/kingdom/$kingdom/IS\"; #/prokka/db/kingdom/Bacteria/IS\n",
    "if (-r IS_db) {\n",
    "  push @database, {\n",
    "    DB  : IS_db,\n",
    "    SRC : 'similar to AA sequence:ISfinder:',\n",
    "    FMT : 'blast',\n",
    "    CMD : blastp_command_pl,\n",
    "    MINCOV : 90,\n",
    "    EVALUE : 1E-30,  # IS families are quite specific\n",
    "  };\n",
    "}"
   ]
  },
  {
   "cell_type": "code",
   "execution_count": null,
   "metadata": {},
   "outputs": [],
   "source": [
    "# BLASTP_on_AMR_genes_command\n",
    "\n",
    "AMR_db = \"$dbdir/kingdom/$kingdom/AMR\"; #/prokka/db/kingdom/Bacteria/AMR\n",
    "if (-r AMR_db) {\n",
    "  push @database, {\n",
    "    DB  : AMR_db,\n",
    "    SRC : 'similar to AA sequence:BARRGD:',\n",
    "    FMT : 'blast',\n",
    "    CMD : blastp_command_pl,\n",
    "    MINCOV : 90,\n",
    "    EVALUE : 1E-300,   # need to exact alleles (~ MIN_DBL, 0.0 not accepted)\n",
    "  };\n",
    "}"
   ]
  },
  {
   "cell_type": "code",
   "execution_count": null,
   "metadata": {},
   "outputs": [],
   "source": [
    "# BLASTP_on_sprot_command\n",
    "\n",
    "push @database, {\n",
    "  DB  : \"$dbdir/kingdom/$kingdom/sprot\", #/prokka/db/kingdom/Bacteria/sprot\n",
    "  SRC : 'similar to AA sequence:UniProtKB:',\n",
    "  FMT : 'blast',\n",
    "  CMD : BLASTPCMD,\n",
    "};"
   ]
  },
  {
   "cell_type": "code",
   "execution_count": null,
   "metadata": {},
   "outputs": [],
   "source": [
    "#BLASTP_run_with_parallel_IS\n",
    "\n",
    "cat \\.\\/test_prokka\\/\\/PROKKA_04202021\\.IS\\.tmp\\.119021\\.faa | parallel --gnu --plain -j 30 --block 23009 --recstart '>' --pipe blastp -query - -db /home/dzilov/soft/miniconda3/envs/prokka_env/db/kingdom/Bacteria/IS -evalue 1e-30 -qcov_hsp_perc 90 -num_threads 1 -num_descriptions 1 -num_alignments 1 -seg no > \\.\\/test_prokka\\/\\/PROKKA_04202021\\.IS\\.tmp\\.119021\\.blast 2> /dev/null"
   ]
  },
  {
   "cell_type": "code",
   "execution_count": null,
   "metadata": {},
   "outputs": [],
   "source": [
    "#BLASTP_run_with_parallel_AMR\n",
    "\n",
    "cat \\.\\/test_prokka\\/\\/PROKKA_04202021\\.AMR\\.tmp\\.119021\\.faa | parallel --gnu --plain -j 30 --block 22707 --recstart '>' --pipe blastp -query - -db /home/dzilov/soft/miniconda3/envs/prokka_env/db/kingdom/Bacteria/AMR -evalue 9.99999999999999e-301 -qcov_hsp_perc 90 -num_threads 1 -num_descriptions 1 -num_alignments 1 -seg no > \\.\\/test_prokka\\/\\/PROKKA_04202021\\.AMR\\.tmp\\.119021\\.blast 2> /dev/null"
   ]
  },
  {
   "cell_type": "code",
   "execution_count": null,
   "metadata": {},
   "outputs": [],
   "source": [
    "#BLASTP_run_with_parallel_sprot\n",
    "\n",
    "cat \\.\\/test_prokka\\/\\/PROKKA_04202021\\.sprot\\.tmp\\.119021\\.faa | parallel --gnu --plain -j 30 --block 22707 --recstart '>' --pipe blastp -query - -db /home/dzilov/soft/miniconda3/envs/prokka_env/db/kingdom/Bacteria/sprot -evalue 1e-09 -qcov_hsp_perc 80 -num_threads 1 -num_descriptions 1 -num_alignments 1 -seg no > \\.\\/test_prokka\\/\\/PROKKA_04202021\\.sprot\\.tmp\\.119021\\.blast 2> /dev/null"
   ]
  },
  {
   "cell_type": "code",
   "execution_count": 5,
   "metadata": {},
   "outputs": [
    {
     "ename": "NameError",
     "evalue": "name 'tools_settings' is not defined",
     "output_type": "error",
     "traceback": [
      "\u001b[0;31m---------------------------------------------------------------------------\u001b[0m",
      "\u001b[0;31mNameError\u001b[0m                                 Traceback (most recent call last)",
      "\u001b[0;32m<ipython-input-5-2b0d32878c5d>\u001b[0m in \u001b[0;36m<module>\u001b[0;34m\u001b[0m\n\u001b[1;32m      3\u001b[0m \u001b[0mmakeblastdb_command_pl\u001b[0m \u001b[0;34m=\u001b[0m \u001b[0;34m\"makeblastdb -dbtype prot -in \\Q$faa_file\\E -out \\Q$outdir/proteins\\E -logfile /dev/null\"\u001b[0m\u001b[0;34m\u001b[0m\u001b[0;34m\u001b[0m\u001b[0m\n\u001b[1;32m      4\u001b[0m \u001b[0;34m\u001b[0m\u001b[0m\n\u001b[0;32m----> 5\u001b[0;31m \u001b[0mmakeblastdb_command_py\u001b[0m \u001b[0;34m=\u001b[0m \u001b[0;34m\"%(makeblastdb_binary)s %(makeblastdb_options)s -o %(makeblastdb_output)s %(makeblastdb_input)s\"\u001b[0m \u001b[0;34m%\u001b[0m \u001b[0mtools_settings\u001b[0m\u001b[0;34m[\u001b[0m\u001b[0;34m\"makeblastdb_options\"\u001b[0m\u001b[0;34m]\u001b[0m\u001b[0;34m\u001b[0m\u001b[0;34m\u001b[0m\u001b[0m\n\u001b[0m\u001b[1;32m      6\u001b[0m \u001b[0mprint\u001b[0m\u001b[0;34m(\u001b[0m\u001b[0mmakeblastdb_command_py\u001b[0m\u001b[0;34m)\u001b[0m\u001b[0;34m\u001b[0m\u001b[0;34m\u001b[0m\u001b[0m\n\u001b[1;32m      7\u001b[0m \u001b[0mos\u001b[0m\u001b[0;34m.\u001b[0m\u001b[0msystem\u001b[0m\u001b[0;34m(\u001b[0m\u001b[0mmakeblastdb_command_py\u001b[0m\u001b[0;34m)\u001b[0m\u001b[0;34m\u001b[0m\u001b[0;34m\u001b[0m\u001b[0m\n",
      "\u001b[0;31mNameError\u001b[0m: name 'tools_settings' is not defined"
     ]
    }
   ],
   "source": [
    "# MAKEBLASTDB\n",
    "\n",
    "makeblastdb_command_pl = \"makeblastdb -dbtype prot -in \\Q$faa_file\\E -out \\Q$outdir/proteins\\E -logfile /dev/null\"\n",
    "\n",
    "makeblastdb_command_py = \"%(makeblastdb_binary)s %(makeblastdb_options)s -o %(makeblastdb_output)s %(makeblastdb_input)s\" % tools_settings[\"makeblastdb_options\"]\n",
    "print(makeblastdb_command_py)\n",
    "os.system(makeblastdb_command_py)"
   ]
  },
  {
   "cell_type": "code",
   "execution_count": 6,
   "metadata": {},
   "outputs": [
    {
     "ename": "SyntaxError",
     "evalue": "invalid syntax (<ipython-input-6-29acd10fea48>, line 3)",
     "output_type": "error",
     "traceback": [
      "\u001b[0;36m  File \u001b[0;32m\"<ipython-input-6-29acd10fea48>\"\u001b[0;36m, line \u001b[0;32m3\u001b[0m\n\u001b[0;31m    tbl2asn_command_pl =   \"tbl2asn -V b -a r10k -l paired-ends $tbl2asn_opt -N $accver -y 'Annotated using $EXE $VERSION from $URL'\".\u001b[0m\n\u001b[0m                                                                                                                                      ^\u001b[0m\n\u001b[0;31mSyntaxError\u001b[0m\u001b[0;31m:\u001b[0m invalid syntax\n"
     ]
    }
   ],
   "source": [
    "# TBL2ASN\n",
    "\n",
    "tbl2asn_command_pl =   \"tbl2asn -V b -a r10k -l paired-ends $tbl2asn_opt -N $accver -y 'Annotated using $EXE $VERSION from $URL'\".\n",
    "  \" -Z \\Q$outdir/$prefix.err\\E -i \\Q$outdir/$prefix.fsa\\E 2> /dev/null\"\n",
    "\n",
    "tbl2asn_command_py = \"%(tbl2asn_binary)s %(tbl2asn_options)s -o %(tbl2asn_output)s %(tbl2asn_input)s\" % tools_settings[\"tbl2asn_options\"]\n",
    "print(tbl2asn_command_py)\n",
    "os.system(tbl2asn_command_py)"
   ]
  },
  {
   "cell_type": "code",
   "execution_count": null,
   "metadata": {},
   "outputs": [],
   "source": []
  }
 ],
 "metadata": {
  "kernelspec": {
   "display_name": "Python 3",
   "language": "python",
   "name": "python3"
  },
  "language_info": {
   "codemirror_mode": {
    "name": "ipython",
    "version": 3
   },
   "file_extension": ".py",
   "mimetype": "text/x-python",
   "name": "python",
   "nbconvert_exporter": "python",
   "pygments_lexer": "ipython3",
   "version": "3.8.5"
  }
 },
 "nbformat": 4,
 "nbformat_minor": 4
}
